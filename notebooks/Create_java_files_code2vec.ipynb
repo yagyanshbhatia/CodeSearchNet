{
 "cells": [
  {
   "cell_type": "code",
   "execution_count": 16,
   "metadata": {},
   "outputs": [],
   "source": [
    "import os\n",
    "import pickle\n",
    "import pandas as pd"
   ]
  },
  {
   "cell_type": "code",
   "execution_count": 11,
   "metadata": {},
   "outputs": [],
   "source": [
    "p1 = \"docstrings_list_\"\n",
    "p2 = \"_java.pkl\"\n",
    "train_dp = p1 + \"train\" + p2\n",
    "train_dp = open(train_dp, 'rb')\n",
    "test_dp = p1 + \"test\" + p2\n",
    "test_dp = open(test_dp, 'rb')\n",
    "valid_dp = p1 + \"valid\" + p2\n",
    "valid_dp = open(valid_dp, 'rb')"
   ]
  },
  {
   "cell_type": "code",
   "execution_count": 12,
   "metadata": {},
   "outputs": [],
   "source": [
    "train_lol = pickle.load(train_dp)\n",
    "test_lol = pickle.load(test_dp)\n",
    "valid_lol = pickle.load(valid_dp)"
   ]
  },
  {
   "cell_type": "code",
   "execution_count": 13,
   "metadata": {},
   "outputs": [],
   "source": [
    "def lol_to_list(lol):\n",
    "    a = []\n",
    "    for i in lol:\n",
    "        for j in i:\n",
    "            a.append(j)\n",
    "    return a\n",
    "train_l = lol_to_list(train_lol)\n",
    "test_l = lol_to_list(test_lol)\n",
    "valid_l = lol_to_list(valid_lol)"
   ]
  },
  {
   "cell_type": "code",
   "execution_count": 14,
   "metadata": {},
   "outputs": [
    {
     "name": "stdout",
     "output_type": "stream",
     "text": [
      "15328\n",
      "/*\n",
      "This is overridden to improve performance. Rough benchmarking shows that this almost doubles\n",
      "the speed when processing strings that do not require any escaping.\n",
      "26909\n",
      "Makes sure the fast-path emits in order.\n",
      "@param value the value to emit or queue up\n",
      "@param delayError if true, errors are delayed until the source has terminated\n",
      "@param disposable the resource to dispose if the drain terminates\n",
      "15328\n",
      "/*\n",
      "This is overridden to improve performance. Rough benchmarking shows that this almost doubles\n",
      "the speed when processing strings that do not require any escaping.\n"
     ]
    }
   ],
   "source": [
    "print(len(train_l))\n",
    "print(train_l[0])\n",
    "print(len(test_l))\n",
    "print(test_l[0])\n",
    "print(len(valid_l))\n",
    "print(valid_l[0])"
   ]
  },
  {
   "cell_type": "code",
   "execution_count": 18,
   "metadata": {},
   "outputs": [
    {
     "name": "stdout",
     "output_type": "stream",
     "text": [
      "1akhil\n"
     ]
    }
   ],
   "source": [
    "a = 1\n",
    "b = \"akhil\"\n",
    "print(str(a)+b)"
   ]
  },
  {
   "cell_type": "code",
   "execution_count": 15,
   "metadata": {},
   "outputs": [],
   "source": [
    "#code2vec doesn't need docstrings..."
   ]
  },
  {
   "cell_type": "code",
   "execution_count": 21,
   "metadata": {},
   "outputs": [],
   "source": [
    "#pulls data from the csv files and then pushes them into a java file, essentially creating our own java files\n",
    "for val in [\"train\", \"test\", \"valid\"]:\n",
    "    path = \"jvdf_\" + val + \".csv\"\n",
    "    df = pd.read_csv(path)\n",
    "    lol = df[[\"code\"]].values.tolist()\n",
    "    l = lol_to_list(lol)\n",
    "#     with open(val+\"code\"+\".pkl\", 'wb') as f:\n",
    "#         pickle.dump(l, f)\n",
    "    count = 0\n",
    "    p = val + \"_code_codesearchnet/\"\n",
    "    if not os.path.isdir(p):\n",
    "        os.mkdir(p)\n",
    "    for i in l:\n",
    "        f = open(p+\"code\"+str(count)+\".java\", \"w\", encoding=\"utf8\")\n",
    "        f.write(str(i))\n",
    "        count = count + 1\n",
    "#of course there is no guarentee that this will run on code2vec\n",
    "#should they all be written into one java file?"
   ]
  }
 ],
 "metadata": {
  "kernelspec": {
   "display_name": "Python 3",
   "language": "python",
   "name": "python3"
  },
  "language_info": {
   "codemirror_mode": {
    "name": "ipython",
    "version": 3
   },
   "file_extension": ".py",
   "mimetype": "text/x-python",
   "name": "python",
   "nbconvert_exporter": "python",
   "pygments_lexer": "ipython3",
   "version": "3.7.4"
  }
 },
 "nbformat": 4,
 "nbformat_minor": 2
}
