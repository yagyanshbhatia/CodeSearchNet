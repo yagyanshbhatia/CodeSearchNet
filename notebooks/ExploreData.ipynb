{
 "cells": [
  {
   "cell_type": "markdown",
   "metadata": {},
   "source": [
    "# Data Exploration\n",
    "\n",
    "This notebook explores the pre-processed data, and shows some basic statistics that may be useful.  "
   ]
  },
  {
   "cell_type": "code",
   "execution_count": 13,
   "metadata": {},
   "outputs": [],
   "source": [
    "import json\n",
    "import pandas as pd\n",
    "from pathlib import Path\n",
    "pd.set_option('max_colwidth',300)\n",
    "from pprint import pprint"
   ]
  },
  {
   "cell_type": "markdown",
   "metadata": {},
   "source": [
    "## Part 1: Preview The Dataset\n",
    "    \n",
    "Before downloading the entire dataset, it may be useful to explore a small sample in order to understand the format and structure of the data.  While the full dataset can be automatically downloaded with the `/script/setup` script located in this repo, we can alternatively download a subset of the data from S3.  \n",
    "\n",
    "The s3 links follow this pattern:\n",
    "\n",
    "> https://s3.amazonaws.com/code-search-net/CodeSearchNet/v2/{python,java,go,php,ruby,javascript}.zip\n",
    "\n",
    "For example, the link for the `python` is:\n",
    "\n",
    "> https://s3.amazonaws.com/code-search-net/CodeSearchNet/v2/python.zip\n",
    "\n",
    "First we download and decompress this dataset:"
   ]
  },
  {
   "cell_type": "code",
   "execution_count": 14,
   "metadata": {},
   "outputs": [],
   "source": [
    "#!wget https://s3.amazonaws.com/code-search-net/CodeSearchNet/v2/python.zip"
   ]
  },
  {
   "cell_type": "code",
   "execution_count": 15,
   "metadata": {},
   "outputs": [],
   "source": [
    "#doesnt work on windows os based anaconda system\n",
    "#!unzip java.zip"
   ]
  },
  {
   "cell_type": "markdown",
   "metadata": {},
   "source": [
    "Finally, we can inspect `python/final/jsonl/test/python_test_0.jsonl.gz` to see its contents:"
   ]
  },
  {
   "cell_type": "code",
   "execution_count": 16,
   "metadata": {},
   "outputs": [],
   "source": [
    "#same problem with windows\n",
    "# decompress this gzip file\n",
    "#!gzip -d ../resources/data/java/final/jsonl/test/python_test_0.jsonl.gz"
   ]
  },
  {
   "cell_type": "markdown",
   "metadata": {},
   "source": [
    "Read in the file and display the first row.  The data is stored in [JSON Lines](http://jsonlines.org/) format."
   ]
  },
  {
   "cell_type": "code",
   "execution_count": 17,
   "metadata": {},
   "outputs": [
    {
     "data": {
      "text/plain": [
       "'{\"repo\": \"ReactiveX/RxJava\", \"path\": \"src/main/java/io/reactivex/internal/observers/QueueDrainObserver.java\", \"func_name\": \"QueueDrainObserver.fastPathOrderedEmit\", \"original_string\": \"protected final void fastPathOrderedEmit(U value, boolean delayError, Disposable disposable) {\\\\n        final Observer<? super V> observer = downstream;\\\\n        final SimplePlainQueue<U> q = queue;\\\\n\\\\n        if (wip.get() == 0 && wip.compareAndSet(0, 1)) {\\\\n            if (q.isEmpty()) {\\\\n                accept(observer, value);\\\\n                if (leave(-1) == 0) {\\\\n                    return;\\\\n                }\\\\n            } else {\\\\n                q.offer(value);\\\\n            }\\\\n        } else {\\\\n            q.offer(value);\\\\n            if (!enter()) {\\\\n                return;\\\\n            }\\\\n        }\\\\n        QueueDrainHelper.drainLoop(q, observer, delayError, disposable, this);\\\\n    }\", \"language\": \"java\", \"code\": \"protected final void fastPathOrderedEmit(U value, boolean delayError, Disposable disposable) {\\\\n        final Observer<? super V> observer = downstream;\\\\n        final SimplePlainQueue<U> q = queue;\\\\n\\\\n        if (wip.get() == 0 && wip.compareAndSet(0, 1)) {\\\\n            if (q.isEmpty()) {\\\\n                accept(observer, value);\\\\n                if (leave(-1) == 0) {\\\\n                    return;\\\\n                }\\\\n            } else {\\\\n                q.offer(value);\\\\n            }\\\\n        } else {\\\\n            q.offer(value);\\\\n            if (!enter()) {\\\\n                return;\\\\n            }\\\\n        }\\\\n        QueueDrainHelper.drainLoop(q, observer, delayError, disposable, this);\\\\n    }\", \"code_tokens\": [\"protected\", \"final\", \"void\", \"fastPathOrderedEmit\", \"(\", \"U\", \"value\", \",\", \"boolean\", \"delayError\", \",\", \"Disposable\", \"disposable\", \")\", \"{\", \"final\", \"Observer\", \"<\", \"?\", \"super\", \"V\", \">\", \"observer\", \"=\", \"downstream\", \";\", \"final\", \"SimplePlainQueue\", \"<\", \"U\", \">\", \"q\", \"=\", \"queue\", \";\", \"if\", \"(\", \"wip\", \".\", \"get\", \"(\", \")\", \"==\", \"0\", \"&&\", \"wip\", \".\", \"compareAndSet\", \"(\", \"0\", \",\", \"1\", \")\", \")\", \"{\", \"if\", \"(\", \"q\", \".\", \"isEmpty\", \"(\", \")\", \")\", \"{\", \"accept\", \"(\", \"observer\", \",\", \"value\", \")\", \";\", \"if\", \"(\", \"leave\", \"(\", \"-\", \"1\", \")\", \"==\", \"0\", \")\", \"{\", \"return\", \";\", \"}\", \"}\", \"else\", \"{\", \"q\", \".\", \"offer\", \"(\", \"value\", \")\", \";\", \"}\", \"}\", \"else\", \"{\", \"q\", \".\", \"offer\", \"(\", \"value\", \")\", \";\", \"if\", \"(\", \"!\", \"enter\", \"(\", \")\", \")\", \"{\", \"return\", \";\", \"}\", \"}\", \"QueueDrainHelper\", \".\", \"drainLoop\", \"(\", \"q\", \",\", \"observer\", \",\", \"delayError\", \",\", \"disposable\", \",\", \"this\", \")\", \";\", \"}\"], \"docstring\": \"Makes sure the fast-path emits in order.\\\\n@param value the value to emit or queue up\\\\n@param delayError if true, errors are delayed until the source has terminated\\\\n@param disposable the resource to dispose if the drain terminates\", \"docstring_tokens\": [\"Makes\", \"sure\", \"the\", \"fast\", \"-\", \"path\", \"emits\", \"in\", \"order\", \".\"], \"sha\": \"ac84182aa2bd866b53e01c8e3fe99683b882c60e\", \"url\": \"https://github.com/ReactiveX/RxJava/blob/ac84182aa2bd866b53e01c8e3fe99683b882c60e/src/main/java/io/reactivex/internal/observers/QueueDrainObserver.java#L88-L108\", \"partition\": \"test\"}\\n'"
      ]
     },
     "execution_count": 17,
     "metadata": {},
     "output_type": "execute_result"
    }
   ],
   "source": [
    "with open('../resources/data/java_codesearchnet/java/final/jsonl/test/java_test_0.jsonl', 'r') as f:\n",
    "    sample_file = f.readlines()\n",
    "sample_file[0]"
   ]
  },
  {
   "cell_type": "markdown",
   "metadata": {},
   "source": [
    "We can utilize the fact that each line in the file is valid json, and display the first row in a more human readable form:"
   ]
  },
  {
   "cell_type": "code",
   "execution_count": 18,
   "metadata": {},
   "outputs": [
    {
     "name": "stdout",
     "output_type": "stream",
     "text": [
      "{'code': 'protected final void fastPathOrderedEmit(U value, boolean '\n",
      "         'delayError, Disposable disposable) {\\n'\n",
      "         '        final Observer<? super V> observer = downstream;\\n'\n",
      "         '        final SimplePlainQueue<U> q = queue;\\n'\n",
      "         '\\n'\n",
      "         '        if (wip.get() == 0 && wip.compareAndSet(0, 1)) {\\n'\n",
      "         '            if (q.isEmpty()) {\\n'\n",
      "         '                accept(observer, value);\\n'\n",
      "         '                if (leave(-1) == 0) {\\n'\n",
      "         '                    return;\\n'\n",
      "         '                }\\n'\n",
      "         '            } else {\\n'\n",
      "         '                q.offer(value);\\n'\n",
      "         '            }\\n'\n",
      "         '        } else {\\n'\n",
      "         '            q.offer(value);\\n'\n",
      "         '            if (!enter()) {\\n'\n",
      "         '                return;\\n'\n",
      "         '            }\\n'\n",
      "         '        }\\n'\n",
      "         '        QueueDrainHelper.drainLoop(q, observer, delayError, '\n",
      "         'disposable, this);\\n'\n",
      "         '    }',\n",
      " 'code_tokens': ['protected',\n",
      "                 'final',\n",
      "                 'void',\n",
      "                 'fastPathOrderedEmit',\n",
      "                 '(',\n",
      "                 'U',\n",
      "                 'value',\n",
      "                 ',',\n",
      "                 'boolean',\n",
      "                 'delayError',\n",
      "                 ',',\n",
      "                 'Disposable',\n",
      "                 'disposable',\n",
      "                 ')',\n",
      "                 '{',\n",
      "                 'final',\n",
      "                 'Observer',\n",
      "                 '<',\n",
      "                 '?',\n",
      "                 'super',\n",
      "                 'V',\n",
      "                 '>',\n",
      "                 'observer',\n",
      "                 '=',\n",
      "                 'downstream',\n",
      "                 ';',\n",
      "                 'final',\n",
      "                 'SimplePlainQueue',\n",
      "                 '<',\n",
      "                 'U',\n",
      "                 '>',\n",
      "                 'q',\n",
      "                 '=',\n",
      "                 'queue',\n",
      "                 ';',\n",
      "                 'if',\n",
      "                 '(',\n",
      "                 'wip',\n",
      "                 '.',\n",
      "                 'get',\n",
      "                 '(',\n",
      "                 ')',\n",
      "                 '==',\n",
      "                 '0',\n",
      "                 '&&',\n",
      "                 'wip',\n",
      "                 '.',\n",
      "                 'compareAndSet',\n",
      "                 '(',\n",
      "                 '0',\n",
      "                 ',',\n",
      "                 '1',\n",
      "                 ')',\n",
      "                 ')',\n",
      "                 '{',\n",
      "                 'if',\n",
      "                 '(',\n",
      "                 'q',\n",
      "                 '.',\n",
      "                 'isEmpty',\n",
      "                 '(',\n",
      "                 ')',\n",
      "                 ')',\n",
      "                 '{',\n",
      "                 'accept',\n",
      "                 '(',\n",
      "                 'observer',\n",
      "                 ',',\n",
      "                 'value',\n",
      "                 ')',\n",
      "                 ';',\n",
      "                 'if',\n",
      "                 '(',\n",
      "                 'leave',\n",
      "                 '(',\n",
      "                 '-',\n",
      "                 '1',\n",
      "                 ')',\n",
      "                 '==',\n",
      "                 '0',\n",
      "                 ')',\n",
      "                 '{',\n",
      "                 'return',\n",
      "                 ';',\n",
      "                 '}',\n",
      "                 '}',\n",
      "                 'else',\n",
      "                 '{',\n",
      "                 'q',\n",
      "                 '.',\n",
      "                 'offer',\n",
      "                 '(',\n",
      "                 'value',\n",
      "                 ')',\n",
      "                 ';',\n",
      "                 '}',\n",
      "                 '}',\n",
      "                 'else',\n",
      "                 '{',\n",
      "                 'q',\n",
      "                 '.',\n",
      "                 'offer',\n",
      "                 '(',\n",
      "                 'value',\n",
      "                 ')',\n",
      "                 ';',\n",
      "                 'if',\n",
      "                 '(',\n",
      "                 '!',\n",
      "                 'enter',\n",
      "                 '(',\n",
      "                 ')',\n",
      "                 ')',\n",
      "                 '{',\n",
      "                 'return',\n",
      "                 ';',\n",
      "                 '}',\n",
      "                 '}',\n",
      "                 'QueueDrainHelper',\n",
      "                 '.',\n",
      "                 'drainLoop',\n",
      "                 '(',\n",
      "                 'q',\n",
      "                 ',',\n",
      "                 'observer',\n",
      "                 ',',\n",
      "                 'delayError',\n",
      "                 ',',\n",
      "                 'disposable',\n",
      "                 ',',\n",
      "                 'this',\n",
      "                 ')',\n",
      "                 ';',\n",
      "                 '}'],\n",
      " 'docstring': 'Makes sure the fast-path emits in order.\\n'\n",
      "              '@param value the value to emit or queue up\\n'\n",
      "              '@param delayError if true, errors are delayed until the source '\n",
      "              'has terminated\\n'\n",
      "              '@param disposable the resource to dispose if the drain '\n",
      "              'terminates',\n",
      " 'docstring_tokens': ['Makes',\n",
      "                      'sure',\n",
      "                      'the',\n",
      "                      'fast',\n",
      "                      '-',\n",
      "                      'path',\n",
      "                      'emits',\n",
      "                      'in',\n",
      "                      'order',\n",
      "                      '.'],\n",
      " 'func_name': 'QueueDrainObserver.fastPathOrderedEmit',\n",
      " 'language': 'java',\n",
      " 'original_string': 'protected final void fastPathOrderedEmit(U value, boolean '\n",
      "                    'delayError, Disposable disposable) {\\n'\n",
      "                    '        final Observer<? super V> observer = downstream;\\n'\n",
      "                    '        final SimplePlainQueue<U> q = queue;\\n'\n",
      "                    '\\n'\n",
      "                    '        if (wip.get() == 0 && wip.compareAndSet(0, 1)) {\\n'\n",
      "                    '            if (q.isEmpty()) {\\n'\n",
      "                    '                accept(observer, value);\\n'\n",
      "                    '                if (leave(-1) == 0) {\\n'\n",
      "                    '                    return;\\n'\n",
      "                    '                }\\n'\n",
      "                    '            } else {\\n'\n",
      "                    '                q.offer(value);\\n'\n",
      "                    '            }\\n'\n",
      "                    '        } else {\\n'\n",
      "                    '            q.offer(value);\\n'\n",
      "                    '            if (!enter()) {\\n'\n",
      "                    '                return;\\n'\n",
      "                    '            }\\n'\n",
      "                    '        }\\n'\n",
      "                    '        QueueDrainHelper.drainLoop(q, observer, '\n",
      "                    'delayError, disposable, this);\\n'\n",
      "                    '    }',\n",
      " 'partition': 'test',\n",
      " 'path': 'src/main/java/io/reactivex/internal/observers/QueueDrainObserver.java',\n",
      " 'repo': 'ReactiveX/RxJava',\n",
      " 'sha': 'ac84182aa2bd866b53e01c8e3fe99683b882c60e',\n",
      " 'url': 'https://github.com/ReactiveX/RxJava/blob/ac84182aa2bd866b53e01c8e3fe99683b882c60e/src/main/java/io/reactivex/internal/observers/QueueDrainObserver.java#L88-L108'}\n"
     ]
    }
   ],
   "source": [
    "pprint(json.loads(sample_file[0]))"
   ]
  },
  {
   "cell_type": "markdown",
   "metadata": {},
   "source": [
    "Definitions of each of the above fields are located in the  in the README.md file in the root of this repository."
   ]
  },
  {
   "cell_type": "markdown",
   "metadata": {},
   "source": [
    "## Part 2: Exploring The Full Dataset\n",
    "\n",
    "You will need to complete the setup steps in the README.md file located in the root of this repository before proceeding."
   ]
  },
  {
   "cell_type": "markdown",
   "metadata": {},
   "source": [
    "The training data is located in `/resources/data`, which contains approximately 3.2 Million code, comment pairs across the train, validation, and test partitions.  You can learn more about the directory structure and associated files by viewing `/resources/README.md`.\n",
    "\n",
    "The preprocessed data re stored in [json lines](http://jsonlines.org/) format.  First, we can get a list of all these files for further inspection:"
   ]
  },
  {
   "cell_type": "code",
   "execution_count": 19,
   "metadata": {
    "scrolled": false
   },
   "outputs": [],
   "source": [
    "java_train_files = sorted(Path('../resources/data/java_codesearchnet/java/final/jsonl/train').glob('**/*.gz'))\n",
    "java_test_files =  sorted(Path('../resources/data/java_codesearchnet/java/final/jsonl/test').glob('**/*.gz'))\n",
    "java_valid_files = sorted(Path('../resources/data/java_codesearchnet/java/final/jsonl/valid').glob('**/*.gz'))\n",
    "all_files = java_train_files + java_test_files + java_valid_files\n",
    "\n",
    "# To match all files, in all directories (from the base directory and deeper)\n",
    "\n",
    "# **/*.nupkg\n",
    "# Will match\n",
    "\n",
    "# sample.nupkg\n",
    "# sample-2.nupkg\n",
    "# tmp/sample.nupkg\n",
    "# tmp/other.nupkg\n",
    "# other/new/sample.nupkg\n",
    "\n",
    "# python_files = sorted(Path('../resources/data/python/').glob('**/*.gz'))\n",
    "# java_files = sorted(Path('../resources/data/java/').glob('**/*.gz'))\n",
    "# go_files = sorted(Path('../resources/data/go/').glob('**/*.gz'))\n",
    "# php_files = sorted(Path('../resources/data/php/').glob('**/*.gz'))\n",
    "# javascript_files = sorted(Path('../resources/data/javascript/').glob('**/*.gz'))\n",
    "# ruby_files = sorted(Path('../resources/data/ruby/').glob('**/*.gz'))\n",
    "# all_files = python_files + go_files + java_files + php_files + javascript_files + ruby_files"
   ]
  },
  {
   "cell_type": "code",
   "execution_count": 20,
   "metadata": {},
   "outputs": [
    {
     "name": "stdout",
     "output_type": "stream",
     "text": [
      "Total number of files: 18\n",
      "1\n",
      "1\n"
     ]
    }
   ],
   "source": [
    "#total number of java files = 16, only includes the trained data\n",
    "#why is test of size zero?\n",
    "print(f'Total number of files: {len(all_files):,}')\n",
    "print(len(java_test_files)) #why is size of test zero?\n",
    "print(len(java_valid_files))"
   ]
  },
  {
   "cell_type": "markdown",
   "metadata": {},
   "source": [
    "To make analysis of this dataset easier, we can load all of the data into a pandas dataframe: "
   ]
  },
  {
   "cell_type": "code",
   "execution_count": 21,
   "metadata": {},
   "outputs": [],
   "source": [
    "columns_long_list = ['repo', 'path', 'url', 'code', \n",
    "                     'code_tokens', 'docstring', 'docstring_tokens', \n",
    "                     'language', 'partition']\n",
    "\n",
    "columns_short_list = ['code_tokens', 'docstring_tokens', \n",
    "                      'language', 'partition']\n",
    "\n",
    "def jsonl_list_to_dataframe(file_list, columns=columns_long_list):\n",
    "    \"\"\"Load a list of jsonl.gz files into a pandas DataFrame.\"\"\"\n",
    "    return pd.concat([pd.read_json(f, \n",
    "                                   orient='records', \n",
    "                                   compression='gzip',\n",
    "                                   lines=True)[columns] \n",
    "                      for f in file_list], sort=False)"
   ]
  },
  {
   "cell_type": "markdown",
   "metadata": {},
   "source": [
    "This is what the python dataset looks like:"
   ]
  },
  {
   "cell_type": "code",
   "execution_count": 23,
   "metadata": {},
   "outputs": [
    {
     "name": "stdout",
     "output_type": "stream",
     "text": [
      "(26909, 9)\n",
      "(15328, 9)\n"
     ]
    }
   ],
   "source": [
    "#jvdf_train = jsonl_list_to_dataframe(java_files)\n",
    "jvdf_valid = jsonl_list_to_dataframe(java_valid_files)\n",
    "jvdf_test = jsonl_list_to_dataframe(java_test_files)\n",
    "#pydf = jsonl_list_to_dataframe(python_files)\n",
    "print(jvdf_test.shape)\n",
    "print(jvdf_valid.shape)"
   ]
  },
  {
   "cell_type": "code",
   "execution_count": 25,
   "metadata": {},
   "outputs": [
    {
     "data": {
      "text/html": [
       "<div>\n",
       "<style scoped>\n",
       "    .dataframe tbody tr th:only-of-type {\n",
       "        vertical-align: middle;\n",
       "    }\n",
       "\n",
       "    .dataframe tbody tr th {\n",
       "        vertical-align: top;\n",
       "    }\n",
       "\n",
       "    .dataframe thead th {\n",
       "        text-align: right;\n",
       "    }\n",
       "</style>\n",
       "<table border=\"1\" class=\"dataframe\">\n",
       "  <thead>\n",
       "    <tr style=\"text-align: right;\">\n",
       "      <th></th>\n",
       "      <th>repo</th>\n",
       "      <th>path</th>\n",
       "      <th>url</th>\n",
       "      <th>code</th>\n",
       "      <th>code_tokens</th>\n",
       "      <th>docstring</th>\n",
       "      <th>docstring_tokens</th>\n",
       "      <th>language</th>\n",
       "      <th>partition</th>\n",
       "    </tr>\n",
       "  </thead>\n",
       "  <tbody>\n",
       "    <tr>\n",
       "      <td>0</td>\n",
       "      <td>google/guava</td>\n",
       "      <td>guava/src/com/google/common/escape/ArrayBasedUnicodeEscaper.java</td>\n",
       "      <td>https://github.com/google/guava/blob/7155d12b70a2406fa84d94d4b8b3bc108e89abfd/guava/src/com/google/common/escape/ArrayBasedUnicodeEscaper.java#L142-L154</td>\n",
       "      <td>@Override\\n  public final String escape(String s) {\\n    checkNotNull(s); // GWT specific check (do not optimize)\\n    for (int i = 0; i &lt; s.length(); i++) {\\n      char c = s.charAt(i);\\n      if ((c &lt; replacementsLength &amp;&amp; replacements[c] != null)\\n          || c &gt; safeMaxChar\\n          || c ...</td>\n",
       "      <td>[@, Override, public, final, String, escape, (, String, s, ), {, checkNotNull, (, s, ), ;, // GWT specific check (do not optimize), for, (, int, i, =, 0, ;, i, &lt;, s, ., length, (, ), ;, i, ++, ), {, char, c, =, s, ., charAt, (, i, ), ;, if, (, (, c, &lt;, replacementsLength, &amp;&amp;, replacements, [, c,...</td>\n",
       "      <td>/*\\nThis is overridden to improve performance. Rough benchmarking shows that this almost doubles\\nthe speed when processing strings that do not require any escaping.</td>\n",
       "      <td>[/, *, This, is, overridden, to, improve, performance, ., Rough, benchmarking, shows, that, this, almost, doubles, the, speed, when, processing, strings, that, do, not, require, any, escaping, .]</td>\n",
       "      <td>java</td>\n",
       "      <td>valid</td>\n",
       "    </tr>\n",
       "    <tr>\n",
       "      <td>1</td>\n",
       "      <td>google/guava</td>\n",
       "      <td>guava/src/com/google/common/escape/ArrayBasedUnicodeEscaper.java</td>\n",
       "      <td>https://github.com/google/guava/blob/7155d12b70a2406fa84d94d4b8b3bc108e89abfd/guava/src/com/google/common/escape/ArrayBasedUnicodeEscaper.java#L161-L173</td>\n",
       "      <td>@Override\\n  protected final char[] escape(int cp) {\\n    if (cp &lt; replacementsLength) {\\n      char[] chars = replacements[cp];\\n      if (chars != null) {\\n        return chars;\\n      }\\n    }\\n    if (cp &gt;= safeMin &amp;&amp; cp &lt;= safeMax) {\\n      return null;\\n    }\\n    return escapeUnsafe(cp);\\...</td>\n",
       "      <td>[@, Override, protected, final, char, [, ], escape, (, int, cp, ), {, if, (, cp, &lt;, replacementsLength, ), {, char, [, ], chars, =, replacements, [, cp, ], ;, if, (, chars, !=, null, ), {, return, chars, ;, }, }, if, (, cp, &gt;=, safeMin, &amp;&amp;, cp, &lt;=, safeMax, ), {, return, null, ;, }, return, esca...</td>\n",
       "      <td>Escapes a single Unicode code point using the replacement array and safe range values. If the\\ngiven character does not have an explicit replacement and lies outside the safe range then\\n{@link #escapeUnsafe} is called.</td>\n",
       "      <td>[Escapes, a, single, Unicode, code, point, using, the, replacement, array, and, safe, range, values, ., If, the, given, character, does, not, have, an, explicit, replacement, and, lies, outside, the, safe, range, then, {]</td>\n",
       "      <td>java</td>\n",
       "      <td>valid</td>\n",
       "    </tr>\n",
       "    <tr>\n",
       "      <td>2</td>\n",
       "      <td>google/guava</td>\n",
       "      <td>guava/src/com/google/common/escape/ArrayBasedUnicodeEscaper.java</td>\n",
       "      <td>https://github.com/google/guava/blob/7155d12b70a2406fa84d94d4b8b3bc108e89abfd/guava/src/com/google/common/escape/ArrayBasedUnicodeEscaper.java#L176-L188</td>\n",
       "      <td>@Override\\n  protected final int nextEscapeIndex(CharSequence csq, int index, int end) {\\n    while (index &lt; end) {\\n      char c = csq.charAt(index);\\n      if ((c &lt; replacementsLength &amp;&amp; replacements[c] != null)\\n          || c &gt; safeMaxChar\\n          || c &lt; safeMinChar) {\\n        break;\\n  ...</td>\n",
       "      <td>[@, Override, protected, final, int, nextEscapeIndex, (, CharSequence, csq, ,, int, index, ,, int, end, ), {, while, (, index, &lt;, end, ), {, char, c, =, csq, ., charAt, (, index, ), ;, if, (, (, c, &lt;, replacementsLength, &amp;&amp;, replacements, [, c, ], !=, null, ), ||, c, &gt;, safeMaxChar, ||, c, &lt;, sa...</td>\n",
       "      <td>/* Overridden for performance.</td>\n",
       "      <td>[/, *, Overridden, for, performance, .]</td>\n",
       "      <td>java</td>\n",
       "      <td>valid</td>\n",
       "    </tr>\n",
       "  </tbody>\n",
       "</table>\n",
       "</div>"
      ],
      "text/plain": [
       "           repo  \\\n",
       "0  google/guava   \n",
       "1  google/guava   \n",
       "2  google/guava   \n",
       "\n",
       "                                                               path  \\\n",
       "0  guava/src/com/google/common/escape/ArrayBasedUnicodeEscaper.java   \n",
       "1  guava/src/com/google/common/escape/ArrayBasedUnicodeEscaper.java   \n",
       "2  guava/src/com/google/common/escape/ArrayBasedUnicodeEscaper.java   \n",
       "\n",
       "                                                                                                                                                        url  \\\n",
       "0  https://github.com/google/guava/blob/7155d12b70a2406fa84d94d4b8b3bc108e89abfd/guava/src/com/google/common/escape/ArrayBasedUnicodeEscaper.java#L142-L154   \n",
       "1  https://github.com/google/guava/blob/7155d12b70a2406fa84d94d4b8b3bc108e89abfd/guava/src/com/google/common/escape/ArrayBasedUnicodeEscaper.java#L161-L173   \n",
       "2  https://github.com/google/guava/blob/7155d12b70a2406fa84d94d4b8b3bc108e89abfd/guava/src/com/google/common/escape/ArrayBasedUnicodeEscaper.java#L176-L188   \n",
       "\n",
       "                                                                                                                                                                                                                                                                                                          code  \\\n",
       "0  @Override\\n  public final String escape(String s) {\\n    checkNotNull(s); // GWT specific check (do not optimize)\\n    for (int i = 0; i < s.length(); i++) {\\n      char c = s.charAt(i);\\n      if ((c < replacementsLength && replacements[c] != null)\\n          || c > safeMaxChar\\n          || c ...   \n",
       "1  @Override\\n  protected final char[] escape(int cp) {\\n    if (cp < replacementsLength) {\\n      char[] chars = replacements[cp];\\n      if (chars != null) {\\n        return chars;\\n      }\\n    }\\n    if (cp >= safeMin && cp <= safeMax) {\\n      return null;\\n    }\\n    return escapeUnsafe(cp);\\...   \n",
       "2  @Override\\n  protected final int nextEscapeIndex(CharSequence csq, int index, int end) {\\n    while (index < end) {\\n      char c = csq.charAt(index);\\n      if ((c < replacementsLength && replacements[c] != null)\\n          || c > safeMaxChar\\n          || c < safeMinChar) {\\n        break;\\n  ...   \n",
       "\n",
       "                                                                                                                                                                                                                                                                                                   code_tokens  \\\n",
       "0  [@, Override, public, final, String, escape, (, String, s, ), {, checkNotNull, (, s, ), ;, // GWT specific check (do not optimize), for, (, int, i, =, 0, ;, i, <, s, ., length, (, ), ;, i, ++, ), {, char, c, =, s, ., charAt, (, i, ), ;, if, (, (, c, <, replacementsLength, &&, replacements, [, c,...   \n",
       "1  [@, Override, protected, final, char, [, ], escape, (, int, cp, ), {, if, (, cp, <, replacementsLength, ), {, char, [, ], chars, =, replacements, [, cp, ], ;, if, (, chars, !=, null, ), {, return, chars, ;, }, }, if, (, cp, >=, safeMin, &&, cp, <=, safeMax, ), {, return, null, ;, }, return, esca...   \n",
       "2  [@, Override, protected, final, int, nextEscapeIndex, (, CharSequence, csq, ,, int, index, ,, int, end, ), {, while, (, index, <, end, ), {, char, c, =, csq, ., charAt, (, index, ), ;, if, (, (, c, <, replacementsLength, &&, replacements, [, c, ], !=, null, ), ||, c, >, safeMaxChar, ||, c, <, sa...   \n",
       "\n",
       "                                                                                                                                                                                                                     docstring  \\\n",
       "0                                                        /*\\nThis is overridden to improve performance. Rough benchmarking shows that this almost doubles\\nthe speed when processing strings that do not require any escaping.   \n",
       "1  Escapes a single Unicode code point using the replacement array and safe range values. If the\\ngiven character does not have an explicit replacement and lies outside the safe range then\\n{@link #escapeUnsafe} is called.   \n",
       "2                                                                                                                                                                                               /* Overridden for performance.   \n",
       "\n",
       "                                                                                                                                                                                                                docstring_tokens  \\\n",
       "0                            [/, *, This, is, overridden, to, improve, performance, ., Rough, benchmarking, shows, that, this, almost, doubles, the, speed, when, processing, strings, that, do, not, require, any, escaping, .]   \n",
       "1  [Escapes, a, single, Unicode, code, point, using, the, replacement, array, and, safe, range, values, ., If, the, given, character, does, not, have, an, explicit, replacement, and, lies, outside, the, safe, range, then, {]   \n",
       "2                                                                                                                                                                                        [/, *, Overridden, for, performance, .]   \n",
       "\n",
       "  language partition  \n",
       "0     java     valid  \n",
       "1     java     valid  \n",
       "2     java     valid  "
      ]
     },
     "execution_count": 25,
     "metadata": {},
     "output_type": "execute_result"
    }
   ],
   "source": [
    "jvdf_valid.head(3)\n",
    "#pydf.head(3)"
   ]
  },
  {
   "cell_type": "code",
   "execution_count": 24,
   "metadata": {},
   "outputs": [
    {
     "data": {
      "text/html": [
       "<div>\n",
       "<style scoped>\n",
       "    .dataframe tbody tr th:only-of-type {\n",
       "        vertical-align: middle;\n",
       "    }\n",
       "\n",
       "    .dataframe tbody tr th {\n",
       "        vertical-align: top;\n",
       "    }\n",
       "\n",
       "    .dataframe thead th {\n",
       "        text-align: right;\n",
       "    }\n",
       "</style>\n",
       "<table border=\"1\" class=\"dataframe\">\n",
       "  <thead>\n",
       "    <tr style=\"text-align: right;\">\n",
       "      <th></th>\n",
       "      <th>repo</th>\n",
       "      <th>path</th>\n",
       "      <th>url</th>\n",
       "      <th>code</th>\n",
       "      <th>code_tokens</th>\n",
       "      <th>docstring</th>\n",
       "      <th>docstring_tokens</th>\n",
       "      <th>language</th>\n",
       "      <th>partition</th>\n",
       "    </tr>\n",
       "  </thead>\n",
       "  <tbody>\n",
       "    <tr>\n",
       "      <td>0</td>\n",
       "      <td>ReactiveX/RxJava</td>\n",
       "      <td>src/main/java/io/reactivex/internal/observers/QueueDrainObserver.java</td>\n",
       "      <td>https://github.com/ReactiveX/RxJava/blob/ac84182aa2bd866b53e01c8e3fe99683b882c60e/src/main/java/io/reactivex/internal/observers/QueueDrainObserver.java#L88-L108</td>\n",
       "      <td>protected final void fastPathOrderedEmit(U value, boolean delayError, Disposable disposable) {\\n        final Observer&lt;? super V&gt; observer = downstream;\\n        final SimplePlainQueue&lt;U&gt; q = queue;\\n\\n        if (wip.get() == 0 &amp;&amp; wip.compareAndSet(0, 1)) {\\n            if (q.isEmpty()) {\\n    ...</td>\n",
       "      <td>[protected, final, void, fastPathOrderedEmit, (, U, value, ,, boolean, delayError, ,, Disposable, disposable, ), {, final, Observer, &lt;, ?, super, V, &gt;, observer, =, downstream, ;, final, SimplePlainQueue, &lt;, U, &gt;, q, =, queue, ;, if, (, wip, ., get, (, ), ==, 0, &amp;&amp;, wip, ., compareAndSet, (, 0, ...</td>\n",
       "      <td>Makes sure the fast-path emits in order.\\n@param value the value to emit or queue up\\n@param delayError if true, errors are delayed until the source has terminated\\n@param disposable the resource to dispose if the drain terminates</td>\n",
       "      <td>[Makes, sure, the, fast, -, path, emits, in, order, .]</td>\n",
       "      <td>java</td>\n",
       "      <td>test</td>\n",
       "    </tr>\n",
       "    <tr>\n",
       "      <td>1</td>\n",
       "      <td>ReactiveX/RxJava</td>\n",
       "      <td>src/main/java/io/reactivex/Observable.java</td>\n",
       "      <td>https://github.com/ReactiveX/RxJava/blob/ac84182aa2bd866b53e01c8e3fe99683b882c60e/src/main/java/io/reactivex/Observable.java#L118-L124</td>\n",
       "      <td>@CheckReturnValue\\n    @NonNull\\n    @SchedulerSupport(SchedulerSupport.NONE)\\n    public static &lt;T&gt; Observable&lt;T&gt; amb(Iterable&lt;? extends ObservableSource&lt;? extends T&gt;&gt; sources) {\\n        ObjectHelper.requireNonNull(sources, \"sources is null\");\\n        return RxJavaPlugins.onAssembly(new Obser...</td>\n",
       "      <td>[@, CheckReturnValue, @, NonNull, @, SchedulerSupport, (, SchedulerSupport, ., NONE, ), public, static, &lt;, T, &gt;, Observable, &lt;, T, &gt;, amb, (, Iterable, &lt;, ?, extends, ObservableSource, &lt;, ?, extends, T, &gt;, &gt;, sources, ), {, ObjectHelper, ., requireNonNull, (, sources, ,, \"sources is null\", ), ;,...</td>\n",
       "      <td>Mirrors the one ObservableSource in an Iterable of several ObservableSources that first either emits an item or sends\\na termination notification.\\n&lt;p&gt;\\n&lt;img width=\"640\" height=\"385\" src=\"https://raw.github.com/wiki/ReactiveX/RxJava/images/rx-operators/amb.png\" alt=\"\"&gt;\\n&lt;dl&gt;\\n&lt;dt&gt;&lt;b&gt;Scheduler:&lt;/...</td>\n",
       "      <td>[Mirrors, the, one, ObservableSource, in, an, Iterable, of, several, ObservableSources, that, first, either, emits, an, item, or, sends, a, termination, notification, ., &lt;p, &gt;, &lt;img, width, =, 640, height, =, 385, src, =, https, :, //, raw, ., github, ., com, /, wiki, /, ReactiveX, /, RxJava, /,...</td>\n",
       "      <td>java</td>\n",
       "      <td>test</td>\n",
       "    </tr>\n",
       "    <tr>\n",
       "      <td>2</td>\n",
       "      <td>ReactiveX/RxJava</td>\n",
       "      <td>src/main/java/io/reactivex/Observable.java</td>\n",
       "      <td>https://github.com/ReactiveX/RxJava/blob/ac84182aa2bd866b53e01c8e3fe99683b882c60e/src/main/java/io/reactivex/Observable.java#L144-L158</td>\n",
       "      <td>@SuppressWarnings(\"unchecked\")\\n    @CheckReturnValue\\n    @NonNull\\n    @SchedulerSupport(SchedulerSupport.NONE)\\n    public static &lt;T&gt; Observable&lt;T&gt; ambArray(ObservableSource&lt;? extends T&gt;... sources) {\\n        ObjectHelper.requireNonNull(sources, \"sources is null\");\\n        int len = sources...</td>\n",
       "      <td>[@, SuppressWarnings, (, \"unchecked\", ), @, CheckReturnValue, @, NonNull, @, SchedulerSupport, (, SchedulerSupport, ., NONE, ), public, static, &lt;, T, &gt;, Observable, &lt;, T, &gt;, ambArray, (, ObservableSource, &lt;, ?, extends, T, &gt;, ..., sources, ), {, ObjectHelper, ., requireNonNull, (, sources, ,, \"s...</td>\n",
       "      <td>Mirrors the one ObservableSource in an array of several ObservableSources that first either emits an item or sends\\na termination notification.\\n&lt;p&gt;\\n&lt;img width=\"640\" height=\"385\" src=\"https://raw.github.com/wiki/ReactiveX/RxJava/images/rx-operators/amb.png\" alt=\"\"&gt;\\n&lt;dl&gt;\\n&lt;dt&gt;&lt;b&gt;Scheduler:&lt;/b&gt;&lt;...</td>\n",
       "      <td>[Mirrors, the, one, ObservableSource, in, an, array, of, several, ObservableSources, that, first, either, emits, an, item, or, sends, a, termination, notification, ., &lt;p, &gt;, &lt;img, width, =, 640, height, =, 385, src, =, https, :, //, raw, ., github, ., com, /, wiki, /, ReactiveX, /, RxJava, /, im...</td>\n",
       "      <td>java</td>\n",
       "      <td>test</td>\n",
       "    </tr>\n",
       "  </tbody>\n",
       "</table>\n",
       "</div>"
      ],
      "text/plain": [
       "               repo  \\\n",
       "0  ReactiveX/RxJava   \n",
       "1  ReactiveX/RxJava   \n",
       "2  ReactiveX/RxJava   \n",
       "\n",
       "                                                                    path  \\\n",
       "0  src/main/java/io/reactivex/internal/observers/QueueDrainObserver.java   \n",
       "1                             src/main/java/io/reactivex/Observable.java   \n",
       "2                             src/main/java/io/reactivex/Observable.java   \n",
       "\n",
       "                                                                                                                                                                url  \\\n",
       "0  https://github.com/ReactiveX/RxJava/blob/ac84182aa2bd866b53e01c8e3fe99683b882c60e/src/main/java/io/reactivex/internal/observers/QueueDrainObserver.java#L88-L108   \n",
       "1                            https://github.com/ReactiveX/RxJava/blob/ac84182aa2bd866b53e01c8e3fe99683b882c60e/src/main/java/io/reactivex/Observable.java#L118-L124   \n",
       "2                            https://github.com/ReactiveX/RxJava/blob/ac84182aa2bd866b53e01c8e3fe99683b882c60e/src/main/java/io/reactivex/Observable.java#L144-L158   \n",
       "\n",
       "                                                                                                                                                                                                                                                                                                          code  \\\n",
       "0  protected final void fastPathOrderedEmit(U value, boolean delayError, Disposable disposable) {\\n        final Observer<? super V> observer = downstream;\\n        final SimplePlainQueue<U> q = queue;\\n\\n        if (wip.get() == 0 && wip.compareAndSet(0, 1)) {\\n            if (q.isEmpty()) {\\n    ...   \n",
       "1  @CheckReturnValue\\n    @NonNull\\n    @SchedulerSupport(SchedulerSupport.NONE)\\n    public static <T> Observable<T> amb(Iterable<? extends ObservableSource<? extends T>> sources) {\\n        ObjectHelper.requireNonNull(sources, \"sources is null\");\\n        return RxJavaPlugins.onAssembly(new Obser...   \n",
       "2  @SuppressWarnings(\"unchecked\")\\n    @CheckReturnValue\\n    @NonNull\\n    @SchedulerSupport(SchedulerSupport.NONE)\\n    public static <T> Observable<T> ambArray(ObservableSource<? extends T>... sources) {\\n        ObjectHelper.requireNonNull(sources, \"sources is null\");\\n        int len = sources...   \n",
       "\n",
       "                                                                                                                                                                                                                                                                                                   code_tokens  \\\n",
       "0  [protected, final, void, fastPathOrderedEmit, (, U, value, ,, boolean, delayError, ,, Disposable, disposable, ), {, final, Observer, <, ?, super, V, >, observer, =, downstream, ;, final, SimplePlainQueue, <, U, >, q, =, queue, ;, if, (, wip, ., get, (, ), ==, 0, &&, wip, ., compareAndSet, (, 0, ...   \n",
       "1  [@, CheckReturnValue, @, NonNull, @, SchedulerSupport, (, SchedulerSupport, ., NONE, ), public, static, <, T, >, Observable, <, T, >, amb, (, Iterable, <, ?, extends, ObservableSource, <, ?, extends, T, >, >, sources, ), {, ObjectHelper, ., requireNonNull, (, sources, ,, \"sources is null\", ), ;,...   \n",
       "2  [@, SuppressWarnings, (, \"unchecked\", ), @, CheckReturnValue, @, NonNull, @, SchedulerSupport, (, SchedulerSupport, ., NONE, ), public, static, <, T, >, Observable, <, T, >, ambArray, (, ObservableSource, <, ?, extends, T, >, ..., sources, ), {, ObjectHelper, ., requireNonNull, (, sources, ,, \"s...   \n",
       "\n",
       "                                                                                                                                                                                                                                                                                                     docstring  \\\n",
       "0                                                                       Makes sure the fast-path emits in order.\\n@param value the value to emit or queue up\\n@param delayError if true, errors are delayed until the source has terminated\\n@param disposable the resource to dispose if the drain terminates   \n",
       "1  Mirrors the one ObservableSource in an Iterable of several ObservableSources that first either emits an item or sends\\na termination notification.\\n<p>\\n<img width=\"640\" height=\"385\" src=\"https://raw.github.com/wiki/ReactiveX/RxJava/images/rx-operators/amb.png\" alt=\"\">\\n<dl>\\n<dt><b>Scheduler:</...   \n",
       "2  Mirrors the one ObservableSource in an array of several ObservableSources that first either emits an item or sends\\na termination notification.\\n<p>\\n<img width=\"640\" height=\"385\" src=\"https://raw.github.com/wiki/ReactiveX/RxJava/images/rx-operators/amb.png\" alt=\"\">\\n<dl>\\n<dt><b>Scheduler:</b><...   \n",
       "\n",
       "                                                                                                                                                                                                                                                                                              docstring_tokens  \\\n",
       "0                                                                                                                                                                                                                                                       [Makes, sure, the, fast, -, path, emits, in, order, .]   \n",
       "1  [Mirrors, the, one, ObservableSource, in, an, Iterable, of, several, ObservableSources, that, first, either, emits, an, item, or, sends, a, termination, notification, ., <p, >, <img, width, =, 640, height, =, 385, src, =, https, :, //, raw, ., github, ., com, /, wiki, /, ReactiveX, /, RxJava, /,...   \n",
       "2  [Mirrors, the, one, ObservableSource, in, an, array, of, several, ObservableSources, that, first, either, emits, an, item, or, sends, a, termination, notification, ., <p, >, <img, width, =, 640, height, =, 385, src, =, https, :, //, raw, ., github, ., com, /, wiki, /, ReactiveX, /, RxJava, /, im...   \n",
       "\n",
       "  language partition  \n",
       "0     java      test  \n",
       "1     java      test  \n",
       "2     java      test  "
      ]
     },
     "execution_count": 24,
     "metadata": {},
     "output_type": "execute_result"
    }
   ],
   "source": [
    "jvdf_test.head(3)\n",
    "#pydf.head(3)"
   ]
  },
  {
   "cell_type": "code",
   "execution_count": 26,
   "metadata": {},
   "outputs": [],
   "source": [
    "#we save the dataframe into a csv so we don't need to create it again\n",
    "#jvdf_train.to_csv(\"jvdf_train.csv\")\n",
    "jvdf_test.to_csv(\"jvdf_test.csv\")\n",
    "jvdf_valid.to_csv(\"jvdf_valid.csv\")"
   ]
  },
  {
   "cell_type": "code",
   "execution_count": 30,
   "metadata": {},
   "outputs": [
    {
     "name": "stdout",
     "output_type": "stream",
     "text": [
      "<class 'pandas.core.frame.DataFrame'>\n",
      "RangeIndex: 26909 entries, 0 to 26908\n",
      "Data columns (total 9 columns):\n",
      "repo                26909 non-null object\n",
      "path                26909 non-null object\n",
      "url                 26909 non-null object\n",
      "code                26909 non-null object\n",
      "code_tokens         26909 non-null object\n",
      "docstring           26909 non-null object\n",
      "docstring_tokens    26909 non-null object\n",
      "language            26909 non-null object\n",
      "partition           26909 non-null object\n",
      "dtypes: object(9)\n",
      "memory usage: 1.8+ MB\n"
     ]
    }
   ],
   "source": [
    "#training dataset : 454451 rows, and all are supposed to be full i.e. non-null\n",
    "#valid dataset: 15328 rows, all columns have same number of non null entries\n",
    "#testing dataset: 26,909 rows, same condition as above\n",
    "#total is 496688, the same as solved below\n",
    "jvdf_test.info()"
   ]
  },
  {
   "cell_type": "markdown",
   "metadata": {},
   "source": [
    "Two columns that will be heavily used in this dataset are `code_tokens` and `docstring_tokens`, which represent a parallel corpus that can be used for interesting tasks like information retrieval (for example trying to retrieve a codesnippet using the docstring.).  You can find more information regarding the definition of the above columns in the README of this repo. \n",
    "\n",
    "Next, we will read in all of the data for a limited subset of these columns into memory so we can compute summary statistics.  **Warning:** This step takes ~ 20 minutes."
   ]
  },
  {
   "cell_type": "code",
   "execution_count": 34,
   "metadata": {},
   "outputs": [
    {
     "data": {
      "text/plain": [
       "['/*\\nThis is overridden to improve performance. Rough benchmarking shows that this almost doubles\\nthe speed when processing strings that do not require any escaping.']"
      ]
     },
     "execution_count": 34,
     "metadata": {},
     "output_type": "execute_result"
    }
   ],
   "source": [
    "#all_df = jsonl_list_to_dataframe(all_files, columns_short_list)\n",
    "#gets list of all comments, but some may be empty\n",
    "#docstring_list_train = jvdf_train[[\"docstring\"]].values.tolist()\n",
    "docstring_list_test = jvdf_test[[\"docstring\"]].values.tolist()\n",
    "docstring_list_valid = jvdf_valid[[\"docstring\"]].values.tolist()\n",
    "docstring_list_valid[0]"
   ]
  },
  {
   "cell_type": "code",
   "execution_count": 35,
   "metadata": {},
   "outputs": [],
   "source": [
    "#run the dump_data step only once\n",
    "import pickle\n",
    "# filename = \"docstrings_list_train_java.pkl\"\n",
    "# dump_data = docstring_list\n",
    "def pkldump(filename, dump_data):\n",
    "    with open(filename, \"wb\") as f:\n",
    "        pickle.dump(dump_data, f)\n",
    "def pklload(filename):\n",
    "    with open(filename, \"rb\") as f:\n",
    "        out_file = pickle.load(f)\n",
    "        return out_file"
   ]
  },
  {
   "cell_type": "code",
   "execution_count": 41,
   "metadata": {},
   "outputs": [],
   "source": [
    "#run the dump_data step only once\n",
    "filename = \"docstrings_list_valid_java.pkl\"\n",
    "dump_data = docstring_list_valid\n",
    "pkldump(filename, dump_data)\n",
    "docstring_list = pklload(filename)"
   ]
  },
  {
   "cell_type": "code",
   "execution_count": 42,
   "metadata": {},
   "outputs": [
    {
     "data": {
      "text/plain": [
       "15328"
      ]
     },
     "execution_count": 42,
     "metadata": {},
     "output_type": "execute_result"
    }
   ],
   "source": [
    "len(docstring_list)"
   ]
  },
  {
   "cell_type": "markdown",
   "metadata": {},
   "source": [
    "## Summary Statistics"
   ]
  },
  {
   "cell_type": "markdown",
   "metadata": {},
   "source": [
    "### Row Counts\n",
    "\n",
    "By Partition"
   ]
  },
  {
   "cell_type": "code",
   "execution_count": 13,
   "metadata": {
    "scrolled": true
   },
   "outputs": [
    {
     "data": {
      "text/plain": [
       "train    1880853\n",
       "test      100529\n",
       "valid      89154\n",
       "Name: partition, dtype: int64"
      ]
     },
     "execution_count": 13,
     "metadata": {},
     "output_type": "execute_result"
    }
   ],
   "source": [
    "all_df.partition.value_counts()"
   ]
  },
  {
   "cell_type": "markdown",
   "metadata": {},
   "source": [
    "By Language"
   ]
  },
  {
   "cell_type": "code",
   "execution_count": 14,
   "metadata": {},
   "outputs": [
    {
     "data": {
      "text/plain": [
       "php           578118\n",
       "java          496688\n",
       "python        457461\n",
       "go            346365\n",
       "javascript    138625\n",
       "ruby           53279\n",
       "Name: language, dtype: int64"
      ]
     },
     "execution_count": 14,
     "metadata": {},
     "output_type": "execute_result"
    }
   ],
   "source": [
    "all_df.language.value_counts()"
   ]
  },
  {
   "cell_type": "markdown",
   "metadata": {},
   "source": [
    "By Partition & Language"
   ]
  },
  {
   "cell_type": "code",
   "execution_count": 15,
   "metadata": {
    "scrolled": true
   },
   "outputs": [
    {
     "data": {
      "text/plain": [
       "partition  language  \n",
       "test       go             14291\n",
       "           java           26909\n",
       "           javascript      6483\n",
       "           php            28391\n",
       "           python         22176\n",
       "           ruby            2279\n",
       "train      go            317832\n",
       "           java          454451\n",
       "           javascript    123889\n",
       "           php           523712\n",
       "           python        412178\n",
       "           ruby           48791\n",
       "valid      go             14242\n",
       "           java           15328\n",
       "           javascript      8253\n",
       "           php            26015\n",
       "           python         23107\n",
       "           ruby            2209\n",
       "Name: code_tokens, dtype: int64"
      ]
     },
     "execution_count": 15,
     "metadata": {},
     "output_type": "execute_result"
    }
   ],
   "source": [
    "all_df.groupby(['partition', 'language'])['code_tokens'].count()"
   ]
  },
  {
   "cell_type": "markdown",
   "metadata": {},
   "source": [
    "### Token Lengths By Language"
   ]
  },
  {
   "cell_type": "code",
   "execution_count": 16,
   "metadata": {},
   "outputs": [],
   "source": [
    "all_df['code_len'] = all_df.code_tokens.apply(lambda x: len(x))\n",
    "all_df['query_len'] = all_df.docstring_tokens.apply(lambda x: len(x))"
   ]
  },
  {
   "cell_type": "markdown",
   "metadata": {},
   "source": [
    "#### Code Length Percentile By Language\n",
    "\n",
    "For example, the 80th percentile length for python tokens is 72"
   ]
  },
  {
   "cell_type": "code",
   "execution_count": 17,
   "metadata": {},
   "outputs": [
    {
     "data": {
      "text/html": [
       "<div>\n",
       "<style scoped>\n",
       "    .dataframe tbody tr th:only-of-type {\n",
       "        vertical-align: middle;\n",
       "    }\n",
       "\n",
       "    .dataframe tbody tr th {\n",
       "        vertical-align: top;\n",
       "    }\n",
       "\n",
       "    .dataframe thead th {\n",
       "        text-align: right;\n",
       "    }\n",
       "</style>\n",
       "<table border=\"1\" class=\"dataframe\">\n",
       "  <thead>\n",
       "    <tr style=\"text-align: right;\">\n",
       "      <th></th>\n",
       "      <th></th>\n",
       "      <th>code_len</th>\n",
       "    </tr>\n",
       "    <tr>\n",
       "      <th>language</th>\n",
       "      <th></th>\n",
       "      <th></th>\n",
       "    </tr>\n",
       "  </thead>\n",
       "  <tbody>\n",
       "    <tr>\n",
       "      <th rowspan=\"5\" valign=\"top\">go</th>\n",
       "      <th>0.50</th>\n",
       "      <td>61.0</td>\n",
       "    </tr>\n",
       "    <tr>\n",
       "      <th>0.70</th>\n",
       "      <td>100.0</td>\n",
       "    </tr>\n",
       "    <tr>\n",
       "      <th>0.80</th>\n",
       "      <td>138.0</td>\n",
       "    </tr>\n",
       "    <tr>\n",
       "      <th>0.90</th>\n",
       "      <td>217.0</td>\n",
       "    </tr>\n",
       "    <tr>\n",
       "      <th>0.95</th>\n",
       "      <td>319.0</td>\n",
       "    </tr>\n",
       "    <tr>\n",
       "      <th rowspan=\"5\" valign=\"top\">java</th>\n",
       "      <th>0.50</th>\n",
       "      <td>66.0</td>\n",
       "    </tr>\n",
       "    <tr>\n",
       "      <th>0.70</th>\n",
       "      <td>104.0</td>\n",
       "    </tr>\n",
       "    <tr>\n",
       "      <th>0.80</th>\n",
       "      <td>142.0</td>\n",
       "    </tr>\n",
       "    <tr>\n",
       "      <th>0.90</th>\n",
       "      <td>224.0</td>\n",
       "    </tr>\n",
       "    <tr>\n",
       "      <th>0.95</th>\n",
       "      <td>331.0</td>\n",
       "    </tr>\n",
       "    <tr>\n",
       "      <th rowspan=\"5\" valign=\"top\">javascript</th>\n",
       "      <th>0.50</th>\n",
       "      <td>91.0</td>\n",
       "    </tr>\n",
       "    <tr>\n",
       "      <th>0.70</th>\n",
       "      <td>144.0</td>\n",
       "    </tr>\n",
       "    <tr>\n",
       "      <th>0.80</th>\n",
       "      <td>194.0</td>\n",
       "    </tr>\n",
       "    <tr>\n",
       "      <th>0.90</th>\n",
       "      <td>301.0</td>\n",
       "    </tr>\n",
       "    <tr>\n",
       "      <th>0.95</th>\n",
       "      <td>448.0</td>\n",
       "    </tr>\n",
       "    <tr>\n",
       "      <th rowspan=\"5\" valign=\"top\">php</th>\n",
       "      <th>0.50</th>\n",
       "      <td>81.0</td>\n",
       "    </tr>\n",
       "    <tr>\n",
       "      <th>0.70</th>\n",
       "      <td>123.0</td>\n",
       "    </tr>\n",
       "    <tr>\n",
       "      <th>0.80</th>\n",
       "      <td>162.0</td>\n",
       "    </tr>\n",
       "    <tr>\n",
       "      <th>0.90</th>\n",
       "      <td>243.0</td>\n",
       "    </tr>\n",
       "    <tr>\n",
       "      <th>0.95</th>\n",
       "      <td>347.0</td>\n",
       "    </tr>\n",
       "    <tr>\n",
       "      <th rowspan=\"5\" valign=\"top\">python</th>\n",
       "      <th>0.50</th>\n",
       "      <td>72.0</td>\n",
       "    </tr>\n",
       "    <tr>\n",
       "      <th>0.70</th>\n",
       "      <td>114.0</td>\n",
       "    </tr>\n",
       "    <tr>\n",
       "      <th>0.80</th>\n",
       "      <td>155.0</td>\n",
       "    </tr>\n",
       "    <tr>\n",
       "      <th>0.90</th>\n",
       "      <td>237.0</td>\n",
       "    </tr>\n",
       "    <tr>\n",
       "      <th>0.95</th>\n",
       "      <td>341.0</td>\n",
       "    </tr>\n",
       "    <tr>\n",
       "      <th rowspan=\"5\" valign=\"top\">ruby</th>\n",
       "      <th>0.50</th>\n",
       "      <td>48.0</td>\n",
       "    </tr>\n",
       "    <tr>\n",
       "      <th>0.70</th>\n",
       "      <td>68.6</td>\n",
       "    </tr>\n",
       "    <tr>\n",
       "      <th>0.80</th>\n",
       "      <td>88.0</td>\n",
       "    </tr>\n",
       "    <tr>\n",
       "      <th>0.90</th>\n",
       "      <td>125.0</td>\n",
       "    </tr>\n",
       "    <tr>\n",
       "      <th>0.95</th>\n",
       "      <td>174.0</td>\n",
       "    </tr>\n",
       "  </tbody>\n",
       "</table>\n",
       "</div>"
      ],
      "text/plain": [
       "                 code_len\n",
       "language                 \n",
       "go         0.50      61.0\n",
       "           0.70     100.0\n",
       "           0.80     138.0\n",
       "           0.90     217.0\n",
       "           0.95     319.0\n",
       "java       0.50      66.0\n",
       "           0.70     104.0\n",
       "           0.80     142.0\n",
       "           0.90     224.0\n",
       "           0.95     331.0\n",
       "javascript 0.50      91.0\n",
       "           0.70     144.0\n",
       "           0.80     194.0\n",
       "           0.90     301.0\n",
       "           0.95     448.0\n",
       "php        0.50      81.0\n",
       "           0.70     123.0\n",
       "           0.80     162.0\n",
       "           0.90     243.0\n",
       "           0.95     347.0\n",
       "python     0.50      72.0\n",
       "           0.70     114.0\n",
       "           0.80     155.0\n",
       "           0.90     237.0\n",
       "           0.95     341.0\n",
       "ruby       0.50      48.0\n",
       "           0.70      68.6\n",
       "           0.80      88.0\n",
       "           0.90     125.0\n",
       "           0.95     174.0"
      ]
     },
     "metadata": {},
     "output_type": "display_data"
    }
   ],
   "source": [
    "code_len_summary = all_df.groupby('language')['code_len'].quantile([.5, .7, .8, .9, .95])\n",
    "display(pd.DataFrame(code_len_summary))"
   ]
  },
  {
   "cell_type": "markdown",
   "metadata": {},
   "source": [
    "#### Query Length Percentile By Language\n",
    "\n",
    "For example, the 80th percentile length for python tokens is 19"
   ]
  },
  {
   "cell_type": "code",
   "execution_count": 18,
   "metadata": {},
   "outputs": [
    {
     "data": {
      "text/html": [
       "<div>\n",
       "<style scoped>\n",
       "    .dataframe tbody tr th:only-of-type {\n",
       "        vertical-align: middle;\n",
       "    }\n",
       "\n",
       "    .dataframe tbody tr th {\n",
       "        vertical-align: top;\n",
       "    }\n",
       "\n",
       "    .dataframe thead th {\n",
       "        text-align: right;\n",
       "    }\n",
       "</style>\n",
       "<table border=\"1\" class=\"dataframe\">\n",
       "  <thead>\n",
       "    <tr style=\"text-align: right;\">\n",
       "      <th></th>\n",
       "      <th></th>\n",
       "      <th>query_len</th>\n",
       "    </tr>\n",
       "    <tr>\n",
       "      <th>language</th>\n",
       "      <th></th>\n",
       "      <th></th>\n",
       "    </tr>\n",
       "  </thead>\n",
       "  <tbody>\n",
       "    <tr>\n",
       "      <th rowspan=\"5\" valign=\"top\">go</th>\n",
       "      <th>0.50</th>\n",
       "      <td>12.0</td>\n",
       "    </tr>\n",
       "    <tr>\n",
       "      <th>0.70</th>\n",
       "      <td>19.0</td>\n",
       "    </tr>\n",
       "    <tr>\n",
       "      <th>0.80</th>\n",
       "      <td>28.0</td>\n",
       "    </tr>\n",
       "    <tr>\n",
       "      <th>0.90</th>\n",
       "      <td>49.0</td>\n",
       "    </tr>\n",
       "    <tr>\n",
       "      <th>0.95</th>\n",
       "      <td>92.0</td>\n",
       "    </tr>\n",
       "    <tr>\n",
       "      <th rowspan=\"5\" valign=\"top\">java</th>\n",
       "      <th>0.50</th>\n",
       "      <td>11.0</td>\n",
       "    </tr>\n",
       "    <tr>\n",
       "      <th>0.70</th>\n",
       "      <td>18.0</td>\n",
       "    </tr>\n",
       "    <tr>\n",
       "      <th>0.80</th>\n",
       "      <td>25.0</td>\n",
       "    </tr>\n",
       "    <tr>\n",
       "      <th>0.90</th>\n",
       "      <td>39.0</td>\n",
       "    </tr>\n",
       "    <tr>\n",
       "      <th>0.95</th>\n",
       "      <td>61.0</td>\n",
       "    </tr>\n",
       "    <tr>\n",
       "      <th rowspan=\"5\" valign=\"top\">javascript</th>\n",
       "      <th>0.50</th>\n",
       "      <td>10.0</td>\n",
       "    </tr>\n",
       "    <tr>\n",
       "      <th>0.70</th>\n",
       "      <td>15.0</td>\n",
       "    </tr>\n",
       "    <tr>\n",
       "      <th>0.80</th>\n",
       "      <td>21.0</td>\n",
       "    </tr>\n",
       "    <tr>\n",
       "      <th>0.90</th>\n",
       "      <td>33.0</td>\n",
       "    </tr>\n",
       "    <tr>\n",
       "      <th>0.95</th>\n",
       "      <td>47.0</td>\n",
       "    </tr>\n",
       "    <tr>\n",
       "      <th rowspan=\"5\" valign=\"top\">php</th>\n",
       "      <th>0.50</th>\n",
       "      <td>7.0</td>\n",
       "    </tr>\n",
       "    <tr>\n",
       "      <th>0.70</th>\n",
       "      <td>10.0</td>\n",
       "    </tr>\n",
       "    <tr>\n",
       "      <th>0.80</th>\n",
       "      <td>12.0</td>\n",
       "    </tr>\n",
       "    <tr>\n",
       "      <th>0.90</th>\n",
       "      <td>17.0</td>\n",
       "    </tr>\n",
       "    <tr>\n",
       "      <th>0.95</th>\n",
       "      <td>24.0</td>\n",
       "    </tr>\n",
       "    <tr>\n",
       "      <th rowspan=\"5\" valign=\"top\">python</th>\n",
       "      <th>0.50</th>\n",
       "      <td>10.0</td>\n",
       "    </tr>\n",
       "    <tr>\n",
       "      <th>0.70</th>\n",
       "      <td>15.0</td>\n",
       "    </tr>\n",
       "    <tr>\n",
       "      <th>0.80</th>\n",
       "      <td>20.0</td>\n",
       "    </tr>\n",
       "    <tr>\n",
       "      <th>0.90</th>\n",
       "      <td>33.0</td>\n",
       "    </tr>\n",
       "    <tr>\n",
       "      <th>0.95</th>\n",
       "      <td>48.0</td>\n",
       "    </tr>\n",
       "    <tr>\n",
       "      <th rowspan=\"5\" valign=\"top\">ruby</th>\n",
       "      <th>0.50</th>\n",
       "      <td>11.0</td>\n",
       "    </tr>\n",
       "    <tr>\n",
       "      <th>0.70</th>\n",
       "      <td>17.0</td>\n",
       "    </tr>\n",
       "    <tr>\n",
       "      <th>0.80</th>\n",
       "      <td>24.0</td>\n",
       "    </tr>\n",
       "    <tr>\n",
       "      <th>0.90</th>\n",
       "      <td>36.0</td>\n",
       "    </tr>\n",
       "    <tr>\n",
       "      <th>0.95</th>\n",
       "      <td>49.0</td>\n",
       "    </tr>\n",
       "  </tbody>\n",
       "</table>\n",
       "</div>"
      ],
      "text/plain": [
       "                 query_len\n",
       "language                  \n",
       "go         0.50       12.0\n",
       "           0.70       19.0\n",
       "           0.80       28.0\n",
       "           0.90       49.0\n",
       "           0.95       92.0\n",
       "java       0.50       11.0\n",
       "           0.70       18.0\n",
       "           0.80       25.0\n",
       "           0.90       39.0\n",
       "           0.95       61.0\n",
       "javascript 0.50       10.0\n",
       "           0.70       15.0\n",
       "           0.80       21.0\n",
       "           0.90       33.0\n",
       "           0.95       47.0\n",
       "php        0.50        7.0\n",
       "           0.70       10.0\n",
       "           0.80       12.0\n",
       "           0.90       17.0\n",
       "           0.95       24.0\n",
       "python     0.50       10.0\n",
       "           0.70       15.0\n",
       "           0.80       20.0\n",
       "           0.90       33.0\n",
       "           0.95       48.0\n",
       "ruby       0.50       11.0\n",
       "           0.70       17.0\n",
       "           0.80       24.0\n",
       "           0.90       36.0\n",
       "           0.95       49.0"
      ]
     },
     "metadata": {},
     "output_type": "display_data"
    }
   ],
   "source": [
    "query_len_summary = all_df.groupby('language')['query_len'].quantile([.5, .7, .8, .9, .95])\n",
    "display(pd.DataFrame(query_len_summary))"
   ]
  },
  {
   "cell_type": "markdown",
   "metadata": {},
   "source": [
    "#### Query Length All Languages"
   ]
  },
  {
   "cell_type": "code",
   "execution_count": 19,
   "metadata": {},
   "outputs": [
    {
     "data": {
      "text/html": [
       "<div>\n",
       "<style scoped>\n",
       "    .dataframe tbody tr th:only-of-type {\n",
       "        vertical-align: middle;\n",
       "    }\n",
       "\n",
       "    .dataframe tbody tr th {\n",
       "        vertical-align: top;\n",
       "    }\n",
       "\n",
       "    .dataframe thead th {\n",
       "        text-align: right;\n",
       "    }\n",
       "</style>\n",
       "<table border=\"1\" class=\"dataframe\">\n",
       "  <thead>\n",
       "    <tr style=\"text-align: right;\">\n",
       "      <th></th>\n",
       "      <th>query_len</th>\n",
       "    </tr>\n",
       "  </thead>\n",
       "  <tbody>\n",
       "    <tr>\n",
       "      <th>0.50</th>\n",
       "      <td>10.0</td>\n",
       "    </tr>\n",
       "    <tr>\n",
       "      <th>0.70</th>\n",
       "      <td>15.0</td>\n",
       "    </tr>\n",
       "    <tr>\n",
       "      <th>0.80</th>\n",
       "      <td>20.0</td>\n",
       "    </tr>\n",
       "    <tr>\n",
       "      <th>0.90</th>\n",
       "      <td>32.0</td>\n",
       "    </tr>\n",
       "    <tr>\n",
       "      <th>0.95</th>\n",
       "      <td>50.0</td>\n",
       "    </tr>\n",
       "  </tbody>\n",
       "</table>\n",
       "</div>"
      ],
      "text/plain": [
       "      query_len\n",
       "0.50       10.0\n",
       "0.70       15.0\n",
       "0.80       20.0\n",
       "0.90       32.0\n",
       "0.95       50.0"
      ]
     },
     "metadata": {},
     "output_type": "display_data"
    }
   ],
   "source": [
    "query_len_summary = all_df['query_len'].quantile([.5, .7, .8, .9, .95])\n",
    "display(pd.DataFrame(query_len_summary))"
   ]
  },
  {
   "cell_type": "code",
   "execution_count": null,
   "metadata": {},
   "outputs": [],
   "source": []
  }
 ],
 "metadata": {
  "kernelspec": {
   "display_name": "Python 3",
   "language": "python",
   "name": "python3"
  },
  "language_info": {
   "codemirror_mode": {
    "name": "ipython",
    "version": 3
   },
   "file_extension": ".py",
   "mimetype": "text/x-python",
   "name": "python",
   "nbconvert_exporter": "python",
   "pygments_lexer": "ipython3",
   "version": "3.7.4"
  }
 },
 "nbformat": 4,
 "nbformat_minor": 2
}
