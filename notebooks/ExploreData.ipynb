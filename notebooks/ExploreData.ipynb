{
 "cells": [
  {
   "cell_type": "markdown",
   "metadata": {},
   "source": [
    "# Data Exploration\n",
    "\n",
    "This notebook explores the pre-processed data, and shows some basic statistics that may be useful.  "
   ]
  },
  {
   "cell_type": "code",
   "execution_count": 1,
   "metadata": {},
   "outputs": [],
   "source": [
    "import json\n",
    "import pandas as pd\n",
    "from pathlib import Path\n",
    "pd.set_option('max_colwidth',300)\n",
    "from pprint import pprint\n",
    "import os\n",
    "import pickle\n",
    "import time"
   ]
  },
  {
   "cell_type": "markdown",
   "metadata": {},
   "source": [
    "## Part 1: Preview The Dataset\n",
    "    \n",
    "Before downloading the entire dataset, it may be useful to explore a small sample in order to understand the format and structure of the data.  While the full dataset can be automatically downloaded with the `/script/setup` script located in this repo, we can alternatively download a subset of the data from S3.  \n",
    "\n",
    "The s3 links follow this pattern:\n",
    "\n",
    "> https://s3.amazonaws.com/code-search-net/CodeSearchNet/v2/{python,java,go,php,ruby,javascript}.zip\n",
    "\n",
    "For example, the link for the `python` is:\n",
    "\n",
    "> https://s3.amazonaws.com/code-search-net/CodeSearchNet/v2/python.zip\n",
    "\n",
    "Similarly, the link for `java`which is what we are using is:\n",
    "\n",
    "> https://s3.amazonaws.com/code-search-net/CodeSearchNet/v2/java.zip\n",
    "\n",
    "First we download and decompress this dataset:"
   ]
  },
  {
   "cell_type": "code",
   "execution_count": 2,
   "metadata": {},
   "outputs": [
    {
     "name": "stdout",
     "output_type": "stream",
     "text": [
      "--2020-04-26 16:39:52--  https://s3.amazonaws.com/code-search-net/CodeSearchNet/v2/java.zip\n",
      "Resolving s3.amazonaws.com (s3.amazonaws.com)... 52.216.20.75\n",
      "Connecting to s3.amazonaws.com (s3.amazonaws.com)|52.216.20.75|:443... connected.\n",
      "HTTP request sent, awaiting response... 200 OK\n",
      "Length: 1060569153 (1011M) [application/zip]\n",
      "Saving to: ‘java.zip.1’\n",
      "\n",
      "java.zip.1            0%[                    ] 534.64K   131KB/s    eta 2h 21m ^C\n"
     ]
    }
   ],
   "source": [
    "#doesnt work on windows os based anaconda system\n",
    "#recommended linux, or doing the windows equivalent for each command which won't be fun\n",
    "#file is very large, approximately 1011Mb\n",
    "!wget https://s3.amazonaws.com/code-search-net/CodeSearchNet/v2/java.zip"
   ]
  },
  {
   "cell_type": "code",
   "execution_count": 3,
   "metadata": {},
   "outputs": [
    {
     "name": "stdout",
     "output_type": "stream",
     "text": [
      "Archive:  java.zip\r\n",
      "  End-of-central-directory signature not found.  Either this file is not\r\n",
      "  a zipfile, or it constitutes one disk of a multi-part archive.  In the\r\n",
      "  latter case the central directory and zipfile comment will be found on\r\n",
      "  the last disk(s) of this archive.\r\n",
      "note:  java.zip may be a plain executable, not an archive\r\n",
      "unzip:  cannot find zipfile directory in one of java.zip or\r\n",
      "        java.zip.zip, and cannot find java.zip.ZIP, period.\r\n"
     ]
    }
   ],
   "source": [
    "#The error below occurs because I've only partially downloaded the Java zip file\n",
    "#after unzipping, relocate java folder(after unzip) to CodeSearchNet/resources/data\n",
    "!unzip java.zip"
   ]
  },
  {
   "cell_type": "markdown",
   "metadata": {},
   "source": [
    "Finally, we can inspect `java/final/jsonl/test/java_test_0.jsonl.gz` to see its contents:"
   ]
  },
  {
   "cell_type": "code",
   "execution_count": 5,
   "metadata": {},
   "outputs": [
    {
     "name": "stdout",
     "output_type": "stream",
     "text": [
      "gzip: ../resources/data/java/final/jsonl/test/java_test_0.jsonl already exists; do you wish to overwrite (y or n)? ^C\n"
     ]
    }
   ],
   "source": [
    "!gzip -d ../resources/data/java/final/jsonl/test/java_test_0.jsonl.gz"
   ]
  },
  {
   "cell_type": "markdown",
   "metadata": {},
   "source": [
    "Read in the file and display the first row.  The data is stored in [JSON Lines](http://jsonlines.org/) format."
   ]
  },
  {
   "cell_type": "code",
   "execution_count": 7,
   "metadata": {},
   "outputs": [
    {
     "data": {
      "text/plain": [
       "'{\"repo\": \"ReactiveX/RxJava\", \"path\": \"src/main/java/io/reactivex/internal/observers/QueueDrainObserver.java\", \"func_name\": \"QueueDrainObserver.fastPathOrderedEmit\", \"original_string\": \"protected final void fastPathOrderedEmit(U value, boolean delayError, Disposable disposable) {\\\\n        final Observer<? super V> observer = downstream;\\\\n        final SimplePlainQueue<U> q = queue;\\\\n\\\\n        if (wip.get() == 0 && wip.compareAndSet(0, 1)) {\\\\n            if (q.isEmpty()) {\\\\n                accept(observer, value);\\\\n                if (leave(-1) == 0) {\\\\n                    return;\\\\n                }\\\\n            } else {\\\\n                q.offer(value);\\\\n            }\\\\n        } else {\\\\n            q.offer(value);\\\\n            if (!enter()) {\\\\n                return;\\\\n            }\\\\n        }\\\\n        QueueDrainHelper.drainLoop(q, observer, delayError, disposable, this);\\\\n    }\", \"language\": \"java\", \"code\": \"protected final void fastPathOrderedEmit(U value, boolean delayError, Disposable disposable) {\\\\n        final Observer<? super V> observer = downstream;\\\\n        final SimplePlainQueue<U> q = queue;\\\\n\\\\n        if (wip.get() == 0 && wip.compareAndSet(0, 1)) {\\\\n            if (q.isEmpty()) {\\\\n                accept(observer, value);\\\\n                if (leave(-1) == 0) {\\\\n                    return;\\\\n                }\\\\n            } else {\\\\n                q.offer(value);\\\\n            }\\\\n        } else {\\\\n            q.offer(value);\\\\n            if (!enter()) {\\\\n                return;\\\\n            }\\\\n        }\\\\n        QueueDrainHelper.drainLoop(q, observer, delayError, disposable, this);\\\\n    }\", \"code_tokens\": [\"protected\", \"final\", \"void\", \"fastPathOrderedEmit\", \"(\", \"U\", \"value\", \",\", \"boolean\", \"delayError\", \",\", \"Disposable\", \"disposable\", \")\", \"{\", \"final\", \"Observer\", \"<\", \"?\", \"super\", \"V\", \">\", \"observer\", \"=\", \"downstream\", \";\", \"final\", \"SimplePlainQueue\", \"<\", \"U\", \">\", \"q\", \"=\", \"queue\", \";\", \"if\", \"(\", \"wip\", \".\", \"get\", \"(\", \")\", \"==\", \"0\", \"&&\", \"wip\", \".\", \"compareAndSet\", \"(\", \"0\", \",\", \"1\", \")\", \")\", \"{\", \"if\", \"(\", \"q\", \".\", \"isEmpty\", \"(\", \")\", \")\", \"{\", \"accept\", \"(\", \"observer\", \",\", \"value\", \")\", \";\", \"if\", \"(\", \"leave\", \"(\", \"-\", \"1\", \")\", \"==\", \"0\", \")\", \"{\", \"return\", \";\", \"}\", \"}\", \"else\", \"{\", \"q\", \".\", \"offer\", \"(\", \"value\", \")\", \";\", \"}\", \"}\", \"else\", \"{\", \"q\", \".\", \"offer\", \"(\", \"value\", \")\", \";\", \"if\", \"(\", \"!\", \"enter\", \"(\", \")\", \")\", \"{\", \"return\", \";\", \"}\", \"}\", \"QueueDrainHelper\", \".\", \"drainLoop\", \"(\", \"q\", \",\", \"observer\", \",\", \"delayError\", \",\", \"disposable\", \",\", \"this\", \")\", \";\", \"}\"], \"docstring\": \"Makes sure the fast-path emits in order.\\\\n@param value the value to emit or queue up\\\\n@param delayError if true, errors are delayed until the source has terminated\\\\n@param disposable the resource to dispose if the drain terminates\", \"docstring_tokens\": [\"Makes\", \"sure\", \"the\", \"fast\", \"-\", \"path\", \"emits\", \"in\", \"order\", \".\"], \"sha\": \"ac84182aa2bd866b53e01c8e3fe99683b882c60e\", \"url\": \"https://github.com/ReactiveX/RxJava/blob/ac84182aa2bd866b53e01c8e3fe99683b882c60e/src/main/java/io/reactivex/internal/observers/QueueDrainObserver.java#L88-L108\", \"partition\": \"test\"}\\n'"
      ]
     },
     "execution_count": 7,
     "metadata": {},
     "output_type": "execute_result"
    }
   ],
   "source": [
    "with open('../resources/data/java/final/jsonl/test/java_test_0.jsonl', 'r') as f:\n",
    "    sample_file = f.readlines()\n",
    "sample_file[0]"
   ]
  },
  {
   "cell_type": "markdown",
   "metadata": {},
   "source": [
    "We can utilize the fact that each line in the file is valid json, and display the first row in a more human readable form:"
   ]
  },
  {
   "cell_type": "code",
   "execution_count": 8,
   "metadata": {},
   "outputs": [
    {
     "name": "stdout",
     "output_type": "stream",
     "text": [
      "{'code': 'protected final void fastPathOrderedEmit(U value, boolean '\n",
      "         'delayError, Disposable disposable) {\\n'\n",
      "         '        final Observer<? super V> observer = downstream;\\n'\n",
      "         '        final SimplePlainQueue<U> q = queue;\\n'\n",
      "         '\\n'\n",
      "         '        if (wip.get() == 0 && wip.compareAndSet(0, 1)) {\\n'\n",
      "         '            if (q.isEmpty()) {\\n'\n",
      "         '                accept(observer, value);\\n'\n",
      "         '                if (leave(-1) == 0) {\\n'\n",
      "         '                    return;\\n'\n",
      "         '                }\\n'\n",
      "         '            } else {\\n'\n",
      "         '                q.offer(value);\\n'\n",
      "         '            }\\n'\n",
      "         '        } else {\\n'\n",
      "         '            q.offer(value);\\n'\n",
      "         '            if (!enter()) {\\n'\n",
      "         '                return;\\n'\n",
      "         '            }\\n'\n",
      "         '        }\\n'\n",
      "         '        QueueDrainHelper.drainLoop(q, observer, delayError, '\n",
      "         'disposable, this);\\n'\n",
      "         '    }',\n",
      " 'code_tokens': ['protected',\n",
      "                 'final',\n",
      "                 'void',\n",
      "                 'fastPathOrderedEmit',\n",
      "                 '(',\n",
      "                 'U',\n",
      "                 'value',\n",
      "                 ',',\n",
      "                 'boolean',\n",
      "                 'delayError',\n",
      "                 ',',\n",
      "                 'Disposable',\n",
      "                 'disposable',\n",
      "                 ')',\n",
      "                 '{',\n",
      "                 'final',\n",
      "                 'Observer',\n",
      "                 '<',\n",
      "                 '?',\n",
      "                 'super',\n",
      "                 'V',\n",
      "                 '>',\n",
      "                 'observer',\n",
      "                 '=',\n",
      "                 'downstream',\n",
      "                 ';',\n",
      "                 'final',\n",
      "                 'SimplePlainQueue',\n",
      "                 '<',\n",
      "                 'U',\n",
      "                 '>',\n",
      "                 'q',\n",
      "                 '=',\n",
      "                 'queue',\n",
      "                 ';',\n",
      "                 'if',\n",
      "                 '(',\n",
      "                 'wip',\n",
      "                 '.',\n",
      "                 'get',\n",
      "                 '(',\n",
      "                 ')',\n",
      "                 '==',\n",
      "                 '0',\n",
      "                 '&&',\n",
      "                 'wip',\n",
      "                 '.',\n",
      "                 'compareAndSet',\n",
      "                 '(',\n",
      "                 '0',\n",
      "                 ',',\n",
      "                 '1',\n",
      "                 ')',\n",
      "                 ')',\n",
      "                 '{',\n",
      "                 'if',\n",
      "                 '(',\n",
      "                 'q',\n",
      "                 '.',\n",
      "                 'isEmpty',\n",
      "                 '(',\n",
      "                 ')',\n",
      "                 ')',\n",
      "                 '{',\n",
      "                 'accept',\n",
      "                 '(',\n",
      "                 'observer',\n",
      "                 ',',\n",
      "                 'value',\n",
      "                 ')',\n",
      "                 ';',\n",
      "                 'if',\n",
      "                 '(',\n",
      "                 'leave',\n",
      "                 '(',\n",
      "                 '-',\n",
      "                 '1',\n",
      "                 ')',\n",
      "                 '==',\n",
      "                 '0',\n",
      "                 ')',\n",
      "                 '{',\n",
      "                 'return',\n",
      "                 ';',\n",
      "                 '}',\n",
      "                 '}',\n",
      "                 'else',\n",
      "                 '{',\n",
      "                 'q',\n",
      "                 '.',\n",
      "                 'offer',\n",
      "                 '(',\n",
      "                 'value',\n",
      "                 ')',\n",
      "                 ';',\n",
      "                 '}',\n",
      "                 '}',\n",
      "                 'else',\n",
      "                 '{',\n",
      "                 'q',\n",
      "                 '.',\n",
      "                 'offer',\n",
      "                 '(',\n",
      "                 'value',\n",
      "                 ')',\n",
      "                 ';',\n",
      "                 'if',\n",
      "                 '(',\n",
      "                 '!',\n",
      "                 'enter',\n",
      "                 '(',\n",
      "                 ')',\n",
      "                 ')',\n",
      "                 '{',\n",
      "                 'return',\n",
      "                 ';',\n",
      "                 '}',\n",
      "                 '}',\n",
      "                 'QueueDrainHelper',\n",
      "                 '.',\n",
      "                 'drainLoop',\n",
      "                 '(',\n",
      "                 'q',\n",
      "                 ',',\n",
      "                 'observer',\n",
      "                 ',',\n",
      "                 'delayError',\n",
      "                 ',',\n",
      "                 'disposable',\n",
      "                 ',',\n",
      "                 'this',\n",
      "                 ')',\n",
      "                 ';',\n",
      "                 '}'],\n",
      " 'docstring': 'Makes sure the fast-path emits in order.\\n'\n",
      "              '@param value the value to emit or queue up\\n'\n",
      "              '@param delayError if true, errors are delayed until the source '\n",
      "              'has terminated\\n'\n",
      "              '@param disposable the resource to dispose if the drain '\n",
      "              'terminates',\n",
      " 'docstring_tokens': ['Makes',\n",
      "                      'sure',\n",
      "                      'the',\n",
      "                      'fast',\n",
      "                      '-',\n",
      "                      'path',\n",
      "                      'emits',\n",
      "                      'in',\n",
      "                      'order',\n",
      "                      '.'],\n",
      " 'func_name': 'QueueDrainObserver.fastPathOrderedEmit',\n",
      " 'language': 'java',\n",
      " 'original_string': 'protected final void fastPathOrderedEmit(U value, boolean '\n",
      "                    'delayError, Disposable disposable) {\\n'\n",
      "                    '        final Observer<? super V> observer = downstream;\\n'\n",
      "                    '        final SimplePlainQueue<U> q = queue;\\n'\n",
      "                    '\\n'\n",
      "                    '        if (wip.get() == 0 && wip.compareAndSet(0, 1)) {\\n'\n",
      "                    '            if (q.isEmpty()) {\\n'\n",
      "                    '                accept(observer, value);\\n'\n",
      "                    '                if (leave(-1) == 0) {\\n'\n",
      "                    '                    return;\\n'\n",
      "                    '                }\\n'\n",
      "                    '            } else {\\n'\n",
      "                    '                q.offer(value);\\n'\n",
      "                    '            }\\n'\n",
      "                    '        } else {\\n'\n",
      "                    '            q.offer(value);\\n'\n",
      "                    '            if (!enter()) {\\n'\n",
      "                    '                return;\\n'\n",
      "                    '            }\\n'\n",
      "                    '        }\\n'\n",
      "                    '        QueueDrainHelper.drainLoop(q, observer, '\n",
      "                    'delayError, disposable, this);\\n'\n",
      "                    '    }',\n",
      " 'partition': 'test',\n",
      " 'path': 'src/main/java/io/reactivex/internal/observers/QueueDrainObserver.java',\n",
      " 'repo': 'ReactiveX/RxJava',\n",
      " 'sha': 'ac84182aa2bd866b53e01c8e3fe99683b882c60e',\n",
      " 'url': 'https://github.com/ReactiveX/RxJava/blob/ac84182aa2bd866b53e01c8e3fe99683b882c60e/src/main/java/io/reactivex/internal/observers/QueueDrainObserver.java#L88-L108'}\n"
     ]
    }
   ],
   "source": [
    "pprint(json.loads(sample_file[0]))"
   ]
  },
  {
   "cell_type": "markdown",
   "metadata": {},
   "source": [
    "Definitions of each of the above fields are located in the  in the README.md file in the root of this repository."
   ]
  },
  {
   "cell_type": "markdown",
   "metadata": {},
   "source": [
    "## Part 2: Exploring The Full Dataset\n",
    "\n",
    "You will need to complete the setup steps in the README.md file located in the root of this repository before proceeding.  Ignore the above, since it applies to for all the datasets, we are only working on java so you don't need to run that."
   ]
  },
  {
   "cell_type": "markdown",
   "metadata": {},
   "source": [
    "The training data is located in `/resources/data`, which contains approximately 3.2 Million code, comment pairs across the train, validation, and test partitions.  You can learn more about the directory structure and associated files by viewing `/resources/README.md`.  The readme file is already there.\n",
    "\n",
    "The preprocessed data re stored in [json lines](http://jsonlines.org/) format.  First, we can get a list of all these files for further inspection:"
   ]
  },
  {
   "cell_type": "code",
   "execution_count": 11,
   "metadata": {
    "scrolled": false
   },
   "outputs": [],
   "source": [
    "#This is only for Java\n",
    "java_train_files = sorted(Path('../resources/data/java/final/jsonl/train').glob('**/*.gz'))\n",
    "java_test_files =  sorted(Path('../resources/data/java/final/jsonl/test').glob('**/*.gz'))\n",
    "java_valid_files = sorted(Path('../resources/data/java/final/jsonl/valid').glob('**/*.gz'))\n",
    "all_files = java_train_files + java_test_files + java_valid_files\n",
    "\n",
    "# To match all files, in all directories (from the base directory and deeper)\n",
    "\n",
    "# **/*.nupkg\n",
    "# Will match\n",
    "\n",
    "# sample.nupkg\n",
    "# sample-2.nupkg\n",
    "# tmp/sample.nupkg\n",
    "# tmp/other.nupkg\n",
    "# other/new/sample.nupkg\n",
    "\n",
    "# python_files = sorted(Path('../resources/data/python/').glob('**/*.gz'))\n",
    "# java_files = sorted(Path('../resources/data/java/').glob('**/*.gz'))\n",
    "# go_files = sorted(Path('../resources/data/go/').glob('**/*.gz'))\n",
    "# php_files = sorted(Path('../resources/data/php/').glob('**/*.gz'))\n",
    "# javascript_files = sorted(Path('../resources/data/javascript/').glob('**/*.gz'))\n",
    "# ruby_files = sorted(Path('../resources/data/ruby/').glob('**/*.gz'))\n",
    "# all_files = python_files + go_files + java_files + php_files + javascript_files + ruby_files"
   ]
  },
  {
   "cell_type": "code",
   "execution_count": 13,
   "metadata": {},
   "outputs": [
    {
     "name": "stdout",
     "output_type": "stream",
     "text": [
      "Total number of files: 18\n",
      "No of test files: 1\n",
      "No of valid files: 1\n",
      "No of train files: 16\n"
     ]
    }
   ],
   "source": [
    "#Count should be:\n",
    "# Total number of files: 18\n",
    "# No of test files: 1\n",
    "# No of valid files: 1\n",
    "# No of train files: 16\n",
    "print(f'Total number of files: {len(all_files):,}')\n",
    "print(\"No of test files: \" + str(len(java_test_files)))\n",
    "print(\"No of valid files: \" + str(len(java_valid_files)))\n",
    "print(\"No of train files: \" + str(len(java_train_files)))"
   ]
  },
  {
   "cell_type": "markdown",
   "metadata": {},
   "source": [
    "To make analysis of this dataset easier, we can load all of the data into a pandas dataframe: "
   ]
  },
  {
   "cell_type": "code",
   "execution_count": 14,
   "metadata": {},
   "outputs": [],
   "source": [
    "columns_long_list = ['repo', 'path', 'url', 'code', \n",
    "                     'code_tokens', 'docstring', 'docstring_tokens', \n",
    "                     'language', 'partition']\n",
    "\n",
    "columns_short_list = ['code_tokens', 'docstring_tokens', \n",
    "                      'language', 'partition']\n",
    "\n",
    "def jsonl_list_to_dataframe(file_list, columns=columns_long_list):\n",
    "    \"\"\"Load a list of jsonl.gz files into a pandas DataFrame.\"\"\"\n",
    "    return pd.concat([pd.read_json(f, \n",
    "                                   orient='records', \n",
    "                                   compression='gzip',\n",
    "                                   lines=True)[columns] \n",
    "                      for f in file_list], sort=False)"
   ]
  },
  {
   "cell_type": "markdown",
   "metadata": {},
   "source": [
    "This is what the python dataset looks like:"
   ]
  },
  {
   "cell_type": "code",
   "execution_count": 16,
   "metadata": {},
   "outputs": [
    {
     "name": "stdout",
     "output_type": "stream",
     "text": [
      "(454451, 9)\n",
      "(26909, 9)\n",
      "(15328, 9)\n"
     ]
    }
   ],
   "source": [
    "#jvdf is short for java dataframe (pandas dataframe)\n",
    "#This will take about a minute\n",
    "#expected output:\n",
    "# (454451, 9)\n",
    "# (26909, 9)\n",
    "# (15328, 9)\n",
    "#Note all entries are non-null\n",
    "#training dataset : 454451 rows, and all are supposed to be full i.e. non-null\n",
    "#valid dataset: 15328 rows, all columns have same number of non null entries\n",
    "#testing dataset: 26,909 rows, same condition as above\n",
    "#total is 496688, the same as solved below\n",
    "jvdf_train = jsonl_list_to_dataframe(java_train_files)\n",
    "jvdf_valid = jsonl_list_to_dataframe(java_valid_files)\n",
    "jvdf_test = jsonl_list_to_dataframe(java_test_files)\n",
    "print(jvdf_train.shape)\n",
    "print(jvdf_test.shape)\n",
    "print(jvdf_valid.shape)"
   ]
  },
  {
   "cell_type": "code",
   "execution_count": 21,
   "metadata": {},
   "outputs": [
    {
     "name": "stdout",
     "output_type": "stream",
     "text": [
      "<class 'pandas.core.frame.DataFrame'>\n",
      "Int64Index: 454451 entries, 0 to 29999\n",
      "Data columns (total 9 columns):\n",
      " #   Column            Non-Null Count   Dtype \n",
      "---  ------            --------------   ----- \n",
      " 0   repo              454451 non-null  object\n",
      " 1   path              454451 non-null  object\n",
      " 2   url               454451 non-null  object\n",
      " 3   code              454451 non-null  object\n",
      " 4   code_tokens       454451 non-null  object\n",
      " 5   docstring         454451 non-null  object\n",
      " 6   docstring_tokens  454451 non-null  object\n",
      " 7   language          454451 non-null  object\n",
      " 8   partition         454451 non-null  object\n",
      "dtypes: object(9)\n",
      "memory usage: 34.7+ MB\n"
     ]
    }
   ],
   "source": [
    "#To make sure the frames have been loaded correctly\n",
    "jvdf_train.info()"
   ]
  },
  {
   "cell_type": "code",
   "execution_count": 22,
   "metadata": {},
   "outputs": [
    {
     "name": "stdout",
     "output_type": "stream",
     "text": [
      "<class 'pandas.core.frame.DataFrame'>\n",
      "RangeIndex: 15328 entries, 0 to 15327\n",
      "Data columns (total 9 columns):\n",
      " #   Column            Non-Null Count  Dtype \n",
      "---  ------            --------------  ----- \n",
      " 0   repo              15328 non-null  object\n",
      " 1   path              15328 non-null  object\n",
      " 2   url               15328 non-null  object\n",
      " 3   code              15328 non-null  object\n",
      " 4   code_tokens       15328 non-null  object\n",
      " 5   docstring         15328 non-null  object\n",
      " 6   docstring_tokens  15328 non-null  object\n",
      " 7   language          15328 non-null  object\n",
      " 8   partition         15328 non-null  object\n",
      "dtypes: object(9)\n",
      "memory usage: 1.1+ MB\n"
     ]
    }
   ],
   "source": [
    "jvdf_valid.info()"
   ]
  },
  {
   "cell_type": "code",
   "execution_count": 23,
   "metadata": {},
   "outputs": [
    {
     "name": "stdout",
     "output_type": "stream",
     "text": [
      "<class 'pandas.core.frame.DataFrame'>\n",
      "RangeIndex: 26909 entries, 0 to 26908\n",
      "Data columns (total 9 columns):\n",
      " #   Column            Non-Null Count  Dtype \n",
      "---  ------            --------------  ----- \n",
      " 0   repo              26909 non-null  object\n",
      " 1   path              26909 non-null  object\n",
      " 2   url               26909 non-null  object\n",
      " 3   code              26909 non-null  object\n",
      " 4   code_tokens       26909 non-null  object\n",
      " 5   docstring         26909 non-null  object\n",
      " 6   docstring_tokens  26909 non-null  object\n",
      " 7   language          26909 non-null  object\n",
      " 8   partition         26909 non-null  object\n",
      "dtypes: object(9)\n",
      "memory usage: 1.8+ MB\n"
     ]
    }
   ],
   "source": [
    "jvdf_test.info()"
   ]
  },
  {
   "cell_type": "code",
   "execution_count": 25,
   "metadata": {},
   "outputs": [],
   "source": [
    "#we save the dataframe into a csv so we don't need to create it again\n",
    "#we save them in the resources/data/java\n",
    "#This also takes a minute\n",
    "sp = \"../resources/data/java/\"\n",
    "jvdf_train.to_csv(sp + \"jvdf_train.csv\")\n",
    "jvdf_test.to_csv(sp + \"jvdf_test.csv\")\n",
    "jvdf_valid.to_csv(sp + \"jvdf_valid.csv\")"
   ]
  },
  {
   "cell_type": "markdown",
   "metadata": {},
   "source": [
    "Two columns that will be heavily used in this dataset are `code_tokens` and `docstring_tokens`, which represent a parallel corpus that can be used for interesting tasks like information retrieval (for example trying to retrieve a codesnippet using the docstring.).  You can find more information regarding the definition of the above columns in the README of this repo. \n",
    "\n",
    "Next, we will read in all of the data for a limited subset of these columns into memory so we can compute summary statistics.  **Warning:** This step takes ~ 20 minutes."
   ]
  },
  {
   "cell_type": "code",
   "execution_count": 26,
   "metadata": {},
   "outputs": [
    {
     "name": "stdout",
     "output_type": "stream",
     "text": [
      "['Bind indexed elements to the supplied collection.\\n@param name the name of the property to bind\\n@param target the target bindable\\n@param elementBinder the binder to use for elements\\n@param aggregateType the aggregate type, may be a collection or an array\\n@param elementType the element type\\n@param result the destination for results']\n",
      "['/*\\nThis is overridden to improve performance. Rough benchmarking shows that this almost doubles\\nthe speed when processing strings that do not require any escaping.']\n",
      "['Makes sure the fast-path emits in order.\\n@param value the value to emit or queue up\\n@param delayError if true, errors are delayed until the source has terminated\\n@param disposable the resource to dispose if the drain terminates']\n"
     ]
    }
   ],
   "source": [
    "#gets list of all comments, note that we target docstring and not docstring tokens. Note that there are no empty elements\n",
    "docstring_list_train = jvdf_train[[\"docstring\"]].values.tolist()\n",
    "docstring_list_test = jvdf_test[[\"docstring\"]].values.tolist()\n",
    "docstring_list_valid = jvdf_valid[[\"docstring\"]].values.tolist()\n",
    "print(docstring_list_train[0])\n",
    "print(docstring_list_valid[0])\n",
    "print(docstring_list_test[0])"
   ]
  },
  {
   "cell_type": "code",
   "execution_count": 27,
   "metadata": {},
   "outputs": [],
   "source": [
    "#run the dump_data step only once\n",
    "# filename = \"docstrings_list_train_java.pkl\"\n",
    "# dump_data = docstring_list\n",
    "def pkldump(filename, dump_data):\n",
    "    with open(filename, \"wb\") as f:\n",
    "        pickle.dump(dump_data, f)\n",
    "def pklload(filename):\n",
    "    with open(filename, \"rb\") as f:\n",
    "        out_file = pickle.load(f)\n",
    "        return out_file"
   ]
  },
  {
   "cell_type": "code",
   "execution_count": 30,
   "metadata": {},
   "outputs": [],
   "source": [
    "#run the dump_data step only once\n",
    "p = \"/mnt/c/Users/Akhil Chandra/Desktop/BTP/CodeSearchNet/resources/data/java/docstring_lists/\"\n",
    "if not os.path.isdir(p):\n",
    "        os.mkdir(p)\n",
    "filename = p+\"docstrings_list_train_java.pkl\"\n",
    "dump_data = docstring_list_train\n",
    "pkldump(filename, dump_data)\n",
    "filename = p+\"docstrings_list_valid_java.pkl\"\n",
    "dump_data = docstring_list_valid\n",
    "pkldump(filename, dump_data)\n",
    "filename = p+\"docstrings_list_test_java.pkl\"\n",
    "dump_data = docstring_list_test\n",
    "pkldump(filename, dump_data)"
   ]
  },
  {
   "cell_type": "code",
   "execution_count": 31,
   "metadata": {},
   "outputs": [
    {
     "data": {
      "text/plain": [
       "15328"
      ]
     },
     "execution_count": 31,
     "metadata": {},
     "output_type": "execute_result"
    }
   ],
   "source": [
    "#output should be 15328\n",
    "docstring_list = pklload(p+\"docstrings_list_valid_java.pkl\")\n",
    "len(docstring_list)"
   ]
  },
  {
   "cell_type": "code",
   "execution_count": 33,
   "metadata": {},
   "outputs": [],
   "source": [
    "def lol_to_list(lol):\n",
    "    a = []\n",
    "    for i in lol:\n",
    "        for j in i:\n",
    "            a.append(j)\n",
    "    return a"
   ]
  },
  {
   "cell_type": "code",
   "execution_count": 34,
   "metadata": {},
   "outputs": [
    {
     "ename": "KeyboardInterrupt",
     "evalue": "",
     "output_type": "error",
     "traceback": [
      "\u001b[0;31m---------------------------------------------------------------------------\u001b[0m",
      "\u001b[0;31mKeyboardInterrupt\u001b[0m                         Traceback (most recent call last)",
      "\u001b[0;32m<ipython-input-34-4e615a45442c>\u001b[0m in \u001b[0;36m<module>\u001b[0;34m\u001b[0m\n\u001b[1;32m     13\u001b[0m         \u001b[0mos\u001b[0m\u001b[0;34m.\u001b[0m\u001b[0mmkdir\u001b[0m\u001b[0;34m(\u001b[0m\u001b[0mp\u001b[0m\u001b[0;34m)\u001b[0m\u001b[0;34m\u001b[0m\u001b[0;34m\u001b[0m\u001b[0m\n\u001b[1;32m     14\u001b[0m     \u001b[0;32mfor\u001b[0m \u001b[0mi\u001b[0m \u001b[0;32min\u001b[0m \u001b[0ml\u001b[0m\u001b[0;34m:\u001b[0m \u001b[0;31m#we make a file for each code snippet, and name it based on its index in the list.  List indexes don't change, unlike dictionaries\u001b[0m\u001b[0;34m\u001b[0m\u001b[0;34m\u001b[0m\u001b[0m\n\u001b[0;32m---> 15\u001b[0;31m         \u001b[0mf\u001b[0m \u001b[0;34m=\u001b[0m \u001b[0mopen\u001b[0m\u001b[0;34m(\u001b[0m\u001b[0mp\u001b[0m\u001b[0;34m+\u001b[0m\u001b[0;34m\"code\"\u001b[0m\u001b[0;34m+\u001b[0m\u001b[0mstr\u001b[0m\u001b[0;34m(\u001b[0m\u001b[0mcount\u001b[0m\u001b[0;34m)\u001b[0m\u001b[0;34m+\u001b[0m\u001b[0;34m\".java\"\u001b[0m\u001b[0;34m,\u001b[0m \u001b[0;34m\"w\"\u001b[0m\u001b[0;34m,\u001b[0m \u001b[0mencoding\u001b[0m\u001b[0;34m=\u001b[0m\u001b[0;34m\"utf8\"\u001b[0m\u001b[0;34m)\u001b[0m \u001b[0;31m#code is used to refer the code snippet, we will use doc to represent docs\u001b[0m\u001b[0;34m\u001b[0m\u001b[0;34m\u001b[0m\u001b[0m\n\u001b[0m\u001b[1;32m     16\u001b[0m         \u001b[0mf\u001b[0m\u001b[0;34m.\u001b[0m\u001b[0mwrite\u001b[0m\u001b[0;34m(\u001b[0m\u001b[0mstr\u001b[0m\u001b[0;34m(\u001b[0m\u001b[0mi\u001b[0m\u001b[0;34m)\u001b[0m\u001b[0;34m)\u001b[0m\u001b[0;34m\u001b[0m\u001b[0;34m\u001b[0m\u001b[0m\n\u001b[1;32m     17\u001b[0m         \u001b[0mcount\u001b[0m \u001b[0;34m=\u001b[0m \u001b[0mcount\u001b[0m \u001b[0;34m+\u001b[0m \u001b[0;36m1\u001b[0m\u001b[0;34m\u001b[0m\u001b[0;34m\u001b[0m\u001b[0m\n",
      "\u001b[0;31mKeyboardInterrupt\u001b[0m: "
     ]
    }
   ],
   "source": [
    "## To get individual codefiles\n",
    "#pulls data from the csv files and then pushes them into a java file, essentially creating our own java files\n",
    "#This takes a lot of time, like hours.\n",
    "stime = time.time()\n",
    "for val in [\"train\", \"test\", \"valid\"]:\n",
    "    path = \"jvdf_\" + val + \".csv\"\n",
    "    rp = \"../resources/data/java/\"  #relative path\n",
    "    path = rp + path\n",
    "    df = pd.read_csv(path)\n",
    "    lol = df[[\"code\"]].values.tolist()  #each element of lol is a list of code tokens, i.e. lol is a list of lists\n",
    "    l = lol_to_list(lol)   #each element of l is a code snippet, i.e. l is a list of code snippets\n",
    "    count = 0\n",
    "    p = rp + val + \"_code_codesearchnet/Proj1\" #input to the preprocess file is location of a folder of project folders, where java files are in project folder.\n",
    "    if not os.path.isdir(p):\n",
    "        os.mkdir(p)\n",
    "    for i in l: #we make a file for each code snippet, and name it based on its index in the list.  List indexes don't change, unlike dictionaries\n",
    "        f = open(p+\"code\"+str(count)+\".java\", \"w\", encoding=\"utf8\") #code is used to refer the code snippet, we will use doc to represent docs\n",
    "        f.write(str(i))\n",
    "        count = count + 1\n",
    "        if (count%10000 == 0):\n",
    "            print(count)\n",
    "            print(time.time()-stime)\n",
    "#of course there is no guarentee that this will run on code2vec, but preprocess tests seem to be working\n",
    "#should they all be written into one java file?, no since it would be difficult"
   ]
  },
  {
   "cell_type": "markdown",
   "metadata": {},
   "source": [
    "## Summary Statistics\n",
    "We can ignore this bhatia, since this has already been verified above"
   ]
  },
  {
   "cell_type": "markdown",
   "metadata": {},
   "source": [
    "### Row Counts\n",
    "\n",
    "By Partition"
   ]
  },
  {
   "cell_type": "code",
   "execution_count": 13,
   "metadata": {
    "scrolled": true
   },
   "outputs": [
    {
     "data": {
      "text/plain": [
       "train    1880853\n",
       "test      100529\n",
       "valid      89154\n",
       "Name: partition, dtype: int64"
      ]
     },
     "execution_count": 13,
     "metadata": {},
     "output_type": "execute_result"
    }
   ],
   "source": [
    "all_df.partition.value_counts()"
   ]
  },
  {
   "cell_type": "markdown",
   "metadata": {},
   "source": [
    "By Language"
   ]
  },
  {
   "cell_type": "code",
   "execution_count": 14,
   "metadata": {},
   "outputs": [
    {
     "data": {
      "text/plain": [
       "php           578118\n",
       "java          496688\n",
       "python        457461\n",
       "go            346365\n",
       "javascript    138625\n",
       "ruby           53279\n",
       "Name: language, dtype: int64"
      ]
     },
     "execution_count": 14,
     "metadata": {},
     "output_type": "execute_result"
    }
   ],
   "source": [
    "all_df.language.value_counts()"
   ]
  },
  {
   "cell_type": "markdown",
   "metadata": {},
   "source": [
    "By Partition & Language"
   ]
  },
  {
   "cell_type": "code",
   "execution_count": 15,
   "metadata": {
    "scrolled": true
   },
   "outputs": [
    {
     "data": {
      "text/plain": [
       "partition  language  \n",
       "test       go             14291\n",
       "           java           26909\n",
       "           javascript      6483\n",
       "           php            28391\n",
       "           python         22176\n",
       "           ruby            2279\n",
       "train      go            317832\n",
       "           java          454451\n",
       "           javascript    123889\n",
       "           php           523712\n",
       "           python        412178\n",
       "           ruby           48791\n",
       "valid      go             14242\n",
       "           java           15328\n",
       "           javascript      8253\n",
       "           php            26015\n",
       "           python         23107\n",
       "           ruby            2209\n",
       "Name: code_tokens, dtype: int64"
      ]
     },
     "execution_count": 15,
     "metadata": {},
     "output_type": "execute_result"
    }
   ],
   "source": [
    "all_df.groupby(['partition', 'language'])['code_tokens'].count()"
   ]
  },
  {
   "cell_type": "markdown",
   "metadata": {},
   "source": [
    "### Token Lengths By Language"
   ]
  },
  {
   "cell_type": "code",
   "execution_count": 16,
   "metadata": {},
   "outputs": [],
   "source": [
    "all_df['code_len'] = all_df.code_tokens.apply(lambda x: len(x))\n",
    "all_df['query_len'] = all_df.docstring_tokens.apply(lambda x: len(x))"
   ]
  },
  {
   "cell_type": "markdown",
   "metadata": {},
   "source": [
    "#### Code Length Percentile By Language\n",
    "\n",
    "For example, the 80th percentile length for python tokens is 72"
   ]
  },
  {
   "cell_type": "code",
   "execution_count": 17,
   "metadata": {},
   "outputs": [
    {
     "data": {
      "text/html": [
       "<div>\n",
       "<style scoped>\n",
       "    .dataframe tbody tr th:only-of-type {\n",
       "        vertical-align: middle;\n",
       "    }\n",
       "\n",
       "    .dataframe tbody tr th {\n",
       "        vertical-align: top;\n",
       "    }\n",
       "\n",
       "    .dataframe thead th {\n",
       "        text-align: right;\n",
       "    }\n",
       "</style>\n",
       "<table border=\"1\" class=\"dataframe\">\n",
       "  <thead>\n",
       "    <tr style=\"text-align: right;\">\n",
       "      <th></th>\n",
       "      <th></th>\n",
       "      <th>code_len</th>\n",
       "    </tr>\n",
       "    <tr>\n",
       "      <th>language</th>\n",
       "      <th></th>\n",
       "      <th></th>\n",
       "    </tr>\n",
       "  </thead>\n",
       "  <tbody>\n",
       "    <tr>\n",
       "      <th rowspan=\"5\" valign=\"top\">go</th>\n",
       "      <th>0.50</th>\n",
       "      <td>61.0</td>\n",
       "    </tr>\n",
       "    <tr>\n",
       "      <th>0.70</th>\n",
       "      <td>100.0</td>\n",
       "    </tr>\n",
       "    <tr>\n",
       "      <th>0.80</th>\n",
       "      <td>138.0</td>\n",
       "    </tr>\n",
       "    <tr>\n",
       "      <th>0.90</th>\n",
       "      <td>217.0</td>\n",
       "    </tr>\n",
       "    <tr>\n",
       "      <th>0.95</th>\n",
       "      <td>319.0</td>\n",
       "    </tr>\n",
       "    <tr>\n",
       "      <th rowspan=\"5\" valign=\"top\">java</th>\n",
       "      <th>0.50</th>\n",
       "      <td>66.0</td>\n",
       "    </tr>\n",
       "    <tr>\n",
       "      <th>0.70</th>\n",
       "      <td>104.0</td>\n",
       "    </tr>\n",
       "    <tr>\n",
       "      <th>0.80</th>\n",
       "      <td>142.0</td>\n",
       "    </tr>\n",
       "    <tr>\n",
       "      <th>0.90</th>\n",
       "      <td>224.0</td>\n",
       "    </tr>\n",
       "    <tr>\n",
       "      <th>0.95</th>\n",
       "      <td>331.0</td>\n",
       "    </tr>\n",
       "    <tr>\n",
       "      <th rowspan=\"5\" valign=\"top\">javascript</th>\n",
       "      <th>0.50</th>\n",
       "      <td>91.0</td>\n",
       "    </tr>\n",
       "    <tr>\n",
       "      <th>0.70</th>\n",
       "      <td>144.0</td>\n",
       "    </tr>\n",
       "    <tr>\n",
       "      <th>0.80</th>\n",
       "      <td>194.0</td>\n",
       "    </tr>\n",
       "    <tr>\n",
       "      <th>0.90</th>\n",
       "      <td>301.0</td>\n",
       "    </tr>\n",
       "    <tr>\n",
       "      <th>0.95</th>\n",
       "      <td>448.0</td>\n",
       "    </tr>\n",
       "    <tr>\n",
       "      <th rowspan=\"5\" valign=\"top\">php</th>\n",
       "      <th>0.50</th>\n",
       "      <td>81.0</td>\n",
       "    </tr>\n",
       "    <tr>\n",
       "      <th>0.70</th>\n",
       "      <td>123.0</td>\n",
       "    </tr>\n",
       "    <tr>\n",
       "      <th>0.80</th>\n",
       "      <td>162.0</td>\n",
       "    </tr>\n",
       "    <tr>\n",
       "      <th>0.90</th>\n",
       "      <td>243.0</td>\n",
       "    </tr>\n",
       "    <tr>\n",
       "      <th>0.95</th>\n",
       "      <td>347.0</td>\n",
       "    </tr>\n",
       "    <tr>\n",
       "      <th rowspan=\"5\" valign=\"top\">python</th>\n",
       "      <th>0.50</th>\n",
       "      <td>72.0</td>\n",
       "    </tr>\n",
       "    <tr>\n",
       "      <th>0.70</th>\n",
       "      <td>114.0</td>\n",
       "    </tr>\n",
       "    <tr>\n",
       "      <th>0.80</th>\n",
       "      <td>155.0</td>\n",
       "    </tr>\n",
       "    <tr>\n",
       "      <th>0.90</th>\n",
       "      <td>237.0</td>\n",
       "    </tr>\n",
       "    <tr>\n",
       "      <th>0.95</th>\n",
       "      <td>341.0</td>\n",
       "    </tr>\n",
       "    <tr>\n",
       "      <th rowspan=\"5\" valign=\"top\">ruby</th>\n",
       "      <th>0.50</th>\n",
       "      <td>48.0</td>\n",
       "    </tr>\n",
       "    <tr>\n",
       "      <th>0.70</th>\n",
       "      <td>68.6</td>\n",
       "    </tr>\n",
       "    <tr>\n",
       "      <th>0.80</th>\n",
       "      <td>88.0</td>\n",
       "    </tr>\n",
       "    <tr>\n",
       "      <th>0.90</th>\n",
       "      <td>125.0</td>\n",
       "    </tr>\n",
       "    <tr>\n",
       "      <th>0.95</th>\n",
       "      <td>174.0</td>\n",
       "    </tr>\n",
       "  </tbody>\n",
       "</table>\n",
       "</div>"
      ],
      "text/plain": [
       "                 code_len\n",
       "language                 \n",
       "go         0.50      61.0\n",
       "           0.70     100.0\n",
       "           0.80     138.0\n",
       "           0.90     217.0\n",
       "           0.95     319.0\n",
       "java       0.50      66.0\n",
       "           0.70     104.0\n",
       "           0.80     142.0\n",
       "           0.90     224.0\n",
       "           0.95     331.0\n",
       "javascript 0.50      91.0\n",
       "           0.70     144.0\n",
       "           0.80     194.0\n",
       "           0.90     301.0\n",
       "           0.95     448.0\n",
       "php        0.50      81.0\n",
       "           0.70     123.0\n",
       "           0.80     162.0\n",
       "           0.90     243.0\n",
       "           0.95     347.0\n",
       "python     0.50      72.0\n",
       "           0.70     114.0\n",
       "           0.80     155.0\n",
       "           0.90     237.0\n",
       "           0.95     341.0\n",
       "ruby       0.50      48.0\n",
       "           0.70      68.6\n",
       "           0.80      88.0\n",
       "           0.90     125.0\n",
       "           0.95     174.0"
      ]
     },
     "metadata": {},
     "output_type": "display_data"
    }
   ],
   "source": [
    "code_len_summary = all_df.groupby('language')['code_len'].quantile([.5, .7, .8, .9, .95])\n",
    "display(pd.DataFrame(code_len_summary))"
   ]
  },
  {
   "cell_type": "markdown",
   "metadata": {},
   "source": [
    "#### Query Length Percentile By Language\n",
    "\n",
    "For example, the 80th percentile length for python tokens is 19"
   ]
  },
  {
   "cell_type": "code",
   "execution_count": 18,
   "metadata": {},
   "outputs": [
    {
     "data": {
      "text/html": [
       "<div>\n",
       "<style scoped>\n",
       "    .dataframe tbody tr th:only-of-type {\n",
       "        vertical-align: middle;\n",
       "    }\n",
       "\n",
       "    .dataframe tbody tr th {\n",
       "        vertical-align: top;\n",
       "    }\n",
       "\n",
       "    .dataframe thead th {\n",
       "        text-align: right;\n",
       "    }\n",
       "</style>\n",
       "<table border=\"1\" class=\"dataframe\">\n",
       "  <thead>\n",
       "    <tr style=\"text-align: right;\">\n",
       "      <th></th>\n",
       "      <th></th>\n",
       "      <th>query_len</th>\n",
       "    </tr>\n",
       "    <tr>\n",
       "      <th>language</th>\n",
       "      <th></th>\n",
       "      <th></th>\n",
       "    </tr>\n",
       "  </thead>\n",
       "  <tbody>\n",
       "    <tr>\n",
       "      <th rowspan=\"5\" valign=\"top\">go</th>\n",
       "      <th>0.50</th>\n",
       "      <td>12.0</td>\n",
       "    </tr>\n",
       "    <tr>\n",
       "      <th>0.70</th>\n",
       "      <td>19.0</td>\n",
       "    </tr>\n",
       "    <tr>\n",
       "      <th>0.80</th>\n",
       "      <td>28.0</td>\n",
       "    </tr>\n",
       "    <tr>\n",
       "      <th>0.90</th>\n",
       "      <td>49.0</td>\n",
       "    </tr>\n",
       "    <tr>\n",
       "      <th>0.95</th>\n",
       "      <td>92.0</td>\n",
       "    </tr>\n",
       "    <tr>\n",
       "      <th rowspan=\"5\" valign=\"top\">java</th>\n",
       "      <th>0.50</th>\n",
       "      <td>11.0</td>\n",
       "    </tr>\n",
       "    <tr>\n",
       "      <th>0.70</th>\n",
       "      <td>18.0</td>\n",
       "    </tr>\n",
       "    <tr>\n",
       "      <th>0.80</th>\n",
       "      <td>25.0</td>\n",
       "    </tr>\n",
       "    <tr>\n",
       "      <th>0.90</th>\n",
       "      <td>39.0</td>\n",
       "    </tr>\n",
       "    <tr>\n",
       "      <th>0.95</th>\n",
       "      <td>61.0</td>\n",
       "    </tr>\n",
       "    <tr>\n",
       "      <th rowspan=\"5\" valign=\"top\">javascript</th>\n",
       "      <th>0.50</th>\n",
       "      <td>10.0</td>\n",
       "    </tr>\n",
       "    <tr>\n",
       "      <th>0.70</th>\n",
       "      <td>15.0</td>\n",
       "    </tr>\n",
       "    <tr>\n",
       "      <th>0.80</th>\n",
       "      <td>21.0</td>\n",
       "    </tr>\n",
       "    <tr>\n",
       "      <th>0.90</th>\n",
       "      <td>33.0</td>\n",
       "    </tr>\n",
       "    <tr>\n",
       "      <th>0.95</th>\n",
       "      <td>47.0</td>\n",
       "    </tr>\n",
       "    <tr>\n",
       "      <th rowspan=\"5\" valign=\"top\">php</th>\n",
       "      <th>0.50</th>\n",
       "      <td>7.0</td>\n",
       "    </tr>\n",
       "    <tr>\n",
       "      <th>0.70</th>\n",
       "      <td>10.0</td>\n",
       "    </tr>\n",
       "    <tr>\n",
       "      <th>0.80</th>\n",
       "      <td>12.0</td>\n",
       "    </tr>\n",
       "    <tr>\n",
       "      <th>0.90</th>\n",
       "      <td>17.0</td>\n",
       "    </tr>\n",
       "    <tr>\n",
       "      <th>0.95</th>\n",
       "      <td>24.0</td>\n",
       "    </tr>\n",
       "    <tr>\n",
       "      <th rowspan=\"5\" valign=\"top\">python</th>\n",
       "      <th>0.50</th>\n",
       "      <td>10.0</td>\n",
       "    </tr>\n",
       "    <tr>\n",
       "      <th>0.70</th>\n",
       "      <td>15.0</td>\n",
       "    </tr>\n",
       "    <tr>\n",
       "      <th>0.80</th>\n",
       "      <td>20.0</td>\n",
       "    </tr>\n",
       "    <tr>\n",
       "      <th>0.90</th>\n",
       "      <td>33.0</td>\n",
       "    </tr>\n",
       "    <tr>\n",
       "      <th>0.95</th>\n",
       "      <td>48.0</td>\n",
       "    </tr>\n",
       "    <tr>\n",
       "      <th rowspan=\"5\" valign=\"top\">ruby</th>\n",
       "      <th>0.50</th>\n",
       "      <td>11.0</td>\n",
       "    </tr>\n",
       "    <tr>\n",
       "      <th>0.70</th>\n",
       "      <td>17.0</td>\n",
       "    </tr>\n",
       "    <tr>\n",
       "      <th>0.80</th>\n",
       "      <td>24.0</td>\n",
       "    </tr>\n",
       "    <tr>\n",
       "      <th>0.90</th>\n",
       "      <td>36.0</td>\n",
       "    </tr>\n",
       "    <tr>\n",
       "      <th>0.95</th>\n",
       "      <td>49.0</td>\n",
       "    </tr>\n",
       "  </tbody>\n",
       "</table>\n",
       "</div>"
      ],
      "text/plain": [
       "                 query_len\n",
       "language                  \n",
       "go         0.50       12.0\n",
       "           0.70       19.0\n",
       "           0.80       28.0\n",
       "           0.90       49.0\n",
       "           0.95       92.0\n",
       "java       0.50       11.0\n",
       "           0.70       18.0\n",
       "           0.80       25.0\n",
       "           0.90       39.0\n",
       "           0.95       61.0\n",
       "javascript 0.50       10.0\n",
       "           0.70       15.0\n",
       "           0.80       21.0\n",
       "           0.90       33.0\n",
       "           0.95       47.0\n",
       "php        0.50        7.0\n",
       "           0.70       10.0\n",
       "           0.80       12.0\n",
       "           0.90       17.0\n",
       "           0.95       24.0\n",
       "python     0.50       10.0\n",
       "           0.70       15.0\n",
       "           0.80       20.0\n",
       "           0.90       33.0\n",
       "           0.95       48.0\n",
       "ruby       0.50       11.0\n",
       "           0.70       17.0\n",
       "           0.80       24.0\n",
       "           0.90       36.0\n",
       "           0.95       49.0"
      ]
     },
     "metadata": {},
     "output_type": "display_data"
    }
   ],
   "source": [
    "query_len_summary = all_df.groupby('language')['query_len'].quantile([.5, .7, .8, .9, .95])\n",
    "display(pd.DataFrame(query_len_summary))"
   ]
  },
  {
   "cell_type": "markdown",
   "metadata": {},
   "source": [
    "#### Query Length All Languages"
   ]
  },
  {
   "cell_type": "code",
   "execution_count": 19,
   "metadata": {},
   "outputs": [
    {
     "data": {
      "text/html": [
       "<div>\n",
       "<style scoped>\n",
       "    .dataframe tbody tr th:only-of-type {\n",
       "        vertical-align: middle;\n",
       "    }\n",
       "\n",
       "    .dataframe tbody tr th {\n",
       "        vertical-align: top;\n",
       "    }\n",
       "\n",
       "    .dataframe thead th {\n",
       "        text-align: right;\n",
       "    }\n",
       "</style>\n",
       "<table border=\"1\" class=\"dataframe\">\n",
       "  <thead>\n",
       "    <tr style=\"text-align: right;\">\n",
       "      <th></th>\n",
       "      <th>query_len</th>\n",
       "    </tr>\n",
       "  </thead>\n",
       "  <tbody>\n",
       "    <tr>\n",
       "      <th>0.50</th>\n",
       "      <td>10.0</td>\n",
       "    </tr>\n",
       "    <tr>\n",
       "      <th>0.70</th>\n",
       "      <td>15.0</td>\n",
       "    </tr>\n",
       "    <tr>\n",
       "      <th>0.80</th>\n",
       "      <td>20.0</td>\n",
       "    </tr>\n",
       "    <tr>\n",
       "      <th>0.90</th>\n",
       "      <td>32.0</td>\n",
       "    </tr>\n",
       "    <tr>\n",
       "      <th>0.95</th>\n",
       "      <td>50.0</td>\n",
       "    </tr>\n",
       "  </tbody>\n",
       "</table>\n",
       "</div>"
      ],
      "text/plain": [
       "      query_len\n",
       "0.50       10.0\n",
       "0.70       15.0\n",
       "0.80       20.0\n",
       "0.90       32.0\n",
       "0.95       50.0"
      ]
     },
     "metadata": {},
     "output_type": "display_data"
    }
   ],
   "source": [
    "query_len_summary = all_df['query_len'].quantile([.5, .7, .8, .9, .95])\n",
    "display(pd.DataFrame(query_len_summary))"
   ]
  },
  {
   "cell_type": "code",
   "execution_count": null,
   "metadata": {},
   "outputs": [],
   "source": []
  }
 ],
 "metadata": {
  "kernelspec": {
   "display_name": "Python 3",
   "language": "python",
   "name": "python3"
  },
  "language_info": {
   "codemirror_mode": {
    "name": "ipython",
    "version": 3
   },
   "file_extension": ".py",
   "mimetype": "text/x-python",
   "name": "python",
   "nbconvert_exporter": "python",
   "pygments_lexer": "ipython3",
   "version": "3.6.9"
  }
 },
 "nbformat": 4,
 "nbformat_minor": 2
}
